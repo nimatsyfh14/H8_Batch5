{
 "cells": [
  {
   "cell_type": "code",
   "execution_count": 21,
   "id": "efead543",
   "metadata": {},
   "outputs": [
    {
     "data": {
      "text/plain": [
       "True"
      ]
     },
     "execution_count": 21,
     "metadata": {},
     "output_type": "execute_result"
    }
   ],
   "source": [
    "a = 4\n",
    "b = 4\n",
    "\n",
    "a == b\n",
    "a != b\n",
    "a > b\n",
    "a >= b\n",
    "a < b\n",
    "a <= b"
   ]
  },
  {
   "cell_type": "code",
   "execution_count": 22,
   "id": "31649bca",
   "metadata": {},
   "outputs": [
    {
     "name": "stdout",
     "output_type": "stream",
     "text": [
      "Ya\n",
      "a lebih besar atau sama dengan b\n"
     ]
    }
   ],
   "source": [
    "if a == b:\n",
    "    print(\"Ya\")\n",
    "    \n",
    "if a > b:\n",
    "    print(\"a besar dari b\")\n",
    "\n",
    "if a >= b:\n",
    "    print(\"a lebih besar atau sama dengan b\")"
   ]
  },
  {
   "cell_type": "code",
   "execution_count": 23,
   "id": "74c64908",
   "metadata": {},
   "outputs": [
    {
     "name": "stdout",
     "output_type": "stream",
     "text": [
      "Ya\n",
      "a dan b sama\n",
      "paling bawah\n"
     ]
    }
   ],
   "source": [
    "a = 4\n",
    "b = 5\n",
    "if a!= b:\n",
    "    print(\"Ya\")\n",
    "    print(\"a dan b sama\")\n",
    "else:\n",
    "    print('jalankan else')\n",
    "    \n",
    "\n",
    "print(\"paling bawah\")"
   ]
  },
  {
   "cell_type": "code",
   "execution_count": 24,
   "id": "dc89365a",
   "metadata": {},
   "outputs": [
    {
     "name": "stdout",
     "output_type": "stream",
     "text": [
      "uang kamu tidak cukup untuk berbelanja. nabung lagi ya\n"
     ]
    }
   ],
   "source": [
    "harga_buku = 25000\n",
    "harga_majalah = 35000\n",
    "uang = 24000\n",
    "\n",
    "if uang > harga_majalah:\n",
    "    print(\"uang kamu cukup untuk membeli majalah\")\n",
    "elif uang >= harga_buku:\n",
    "    print(\"uang kamu cukup untuk membeli buku\")\n",
    "elif uang == harga_buku:\n",
    "    print(\"uang kamu cukup untuk membeli buku, dan habis.\")\n",
    "else:\n",
    "     print(\"uang kamu tidak cukup untuk berbelanja. nabung lagi ya\")"
   ]
  },
  {
   "cell_type": "code",
   "execution_count": 25,
   "id": "0490fe35",
   "metadata": {},
   "outputs": [
    {
     "name": "stdout",
     "output_type": "stream",
     "text": [
      "10 kecil dari 12\n",
      "10 kecil dari 12\n"
     ]
    }
   ],
   "source": [
    "if 10 < 12:\n",
    "    print('10 kecil dari 12')\n",
    "if 2 == 1:\n",
    "    print('12 sama dengan 10')\n",
    "elif 1<2:\n",
    "    print('10 kecil dari 12')"
   ]
  },
  {
   "cell_type": "code",
   "execution_count": 26,
   "id": "c7eaf1a6",
   "metadata": {},
   "outputs": [
    {
     "name": "stdout",
     "output_type": "stream",
     "text": [
      "ada\n",
      "a\n",
      "dalam\n",
      "nima\n"
     ]
    }
   ],
   "source": [
    "if 'a' in 'nima': print('ada');print('a');print('dalam');print('nima')"
   ]
  },
  {
   "cell_type": "code",
   "execution_count": 27,
   "id": "47970782",
   "metadata": {},
   "outputs": [
    {
     "name": "stdout",
     "output_type": "stream",
     "text": [
      "teman saya ada 4\n"
     ]
    }
   ],
   "source": [
    "print(\"teman saya ada\", a)"
   ]
  },
  {
   "cell_type": "code",
   "execution_count": 28,
   "id": "4d5c100b",
   "metadata": {},
   "outputs": [
    {
     "name": "stdout",
     "output_type": "stream",
     "text": [
      "let's go to the school\n"
     ]
    }
   ],
   "source": [
    "raining = True\n",
    "print(\"let's go to the\", 'beach' if not raining else 'school')"
   ]
  },
  {
   "cell_type": "code",
   "execution_count": 29,
   "id": "20347171",
   "metadata": {},
   "outputs": [
    {
     "data": {
      "text/plain": [
       "5"
      ]
     },
     "execution_count": 29,
     "metadata": {},
     "output_type": "execute_result"
    }
   ],
   "source": [
    "m = a if a > b else b\n",
    "m"
   ]
  },
  {
   "cell_type": "code",
   "execution_count": 30,
   "id": "a3b8cdd7",
   "metadata": {},
   "outputs": [
    {
     "name": "stdout",
     "output_type": "stream",
     "text": [
      "zoo\n"
     ]
    }
   ],
   "source": [
    "if True:\n",
    "    pass\n",
    "elif True:\n",
    "    print('y')\n",
    "\n",
    "print('zoo')"
   ]
  },
  {
   "cell_type": "code",
   "execution_count": 31,
   "id": "ea16307f",
   "metadata": {},
   "outputs": [],
   "source": [
    "a = a -1\n",
    "a += 1"
   ]
  },
  {
   "cell_type": "code",
   "execution_count": 32,
   "id": "18a3471a",
   "metadata": {},
   "outputs": [
    {
     "name": "stdout",
     "output_type": "stream",
     "text": [
      "8\n",
      "6\n",
      "4\n",
      "0\n",
      "ada yang salah\n",
      "ini print di luar loop\n"
     ]
    }
   ],
   "source": [
    "n = 10\n",
    "while n > 0:\n",
    "    n -= 2\n",
    "    \n",
    "    if n == 2:\n",
    "        continue\n",
    "\n",
    "    print(n)\n",
    "else:\n",
    "    print('ada yang salah')\n",
    "\n",
    "print('ini print di luar loop')"
   ]
  },
  {
   "cell_type": "code",
   "execution_count": 33,
   "id": "860385e2",
   "metadata": {},
   "outputs": [
    {
     "data": {
      "text/plain": [
       "dict_items([('zoo', 1), ('nim', 2), ('buzz', 3)])"
      ]
     },
     "execution_count": 33,
     "metadata": {},
     "output_type": "execute_result"
    }
   ],
   "source": [
    "a = {'zoo':1, 'nim':2, 'buzz':3}\n",
    "# for i in a.values():\n",
    "#     print(i)\n",
    "\n",
    "a.items()"
   ]
  },
  {
   "cell_type": "code",
   "execution_count": 34,
   "id": "43f85e3d",
   "metadata": {},
   "outputs": [
    {
     "name": "stdout",
     "output_type": "stream",
     "text": [
      "<class 'range'>\n"
     ]
    }
   ],
   "source": [
    "print(type(range(5)))"
   ]
  },
  {
   "cell_type": "code",
   "execution_count": 35,
   "id": "e0c0bec9",
   "metadata": {},
   "outputs": [
    {
     "name": "stdout",
     "output_type": "stream",
     "text": [
      "25\n",
      "24\n",
      "23\n",
      "22\n",
      "21\n"
     ]
    }
   ],
   "source": [
    "#start,stop,step\n",
    "for i in range(25,1,-1):\n",
    "    if i == 20: \n",
    "        break\n",
    "    print(i)\n",
    "else:\n",
    "    print('mantap')"
   ]
  },
  {
   "cell_type": "code",
   "execution_count": 36,
   "id": "a9804749",
   "metadata": {},
   "outputs": [
    {
     "name": "stdout",
     "output_type": "stream",
     "text": [
      "0\n",
      "selesai\n"
     ]
    }
   ],
   "source": [
    "a = 6\n",
    "while a > 0:\n",
    "    a -= 6\n",
    "    if a == 2:\n",
    "        break\n",
    "    print(a)\n",
    "else:\n",
    "    print('selesai')"
   ]
  },
  {
   "cell_type": "code",
   "execution_count": 37,
   "id": "b10ae4c9",
   "metadata": {},
   "outputs": [
    {
     "name": "stdout",
     "output_type": "stream",
     "text": [
      "berapa umur kamu?19\n",
      "21\n",
      "tipe data umur adalah <class 'str'>\n",
      "tipe data umur_int adalah <class 'int'>\n"
     ]
    }
   ],
   "source": [
    "umur = input('berapa umur kamu?')\n",
    "umur_int = int(umur)\n",
    "print(umur_int + 2)\n",
    "\n",
    "print('tipe data umur adalah', type(umur))\n",
    "print('tipe data umur_int adalah', type(umur_int))"
   ]
  },
  {
   "cell_type": "code",
   "execution_count": 38,
   "id": "20e9401b",
   "metadata": {},
   "outputs": [
    {
     "name": "stdout",
     "output_type": "stream",
     "text": [
      "Ketikan temperatur yang ingin dikonversi, eg. 45F, 120C: 112C\n",
      "Temperaturnya adalah 234 derajat\n"
     ]
    }
   ],
   "source": [
    "temp = input(\"Ketikan temperatur yang ingin dikonversi, eg. 45F, 120C: \") \n",
    "degree = int(temp[:-1])\n",
    "i_convertion = temp[-1]\n",
    "\n",
    "if i_convertion == \"C\":\n",
    "    result = int(round ((9* degree) / 5 + 32))\n",
    "elif i_convertion == \"F\": \n",
    "    result = int(round ((degree - 32) * 5 / 9))\n",
    "else: \n",
    "    print(\"Masukan input yang benar\")\n",
    "    \n",
    "print(\"Temperaturnya adalah\", result, \"derajat\")"
   ]
  },
  {
   "cell_type": "code",
   "execution_count": 39,
   "id": "5b057d73",
   "metadata": {},
   "outputs": [
    {
     "name": "stdout",
     "output_type": "stream",
     "text": [
      "masukkan password kamu:NIMA\n",
      "password yang kamu masukkan salah\n",
      "masukkan password kamu:nima\n",
      "password yang kamu masukkan salah\n",
      "masukkan password kamu:hacktive8\n"
     ]
    }
   ],
   "source": [
    "while True:\n",
    "    password = input('masukkan password kamu:')\n",
    "    \n",
    "    if password == 'hacktive8':\n",
    "        break\n",
    "    else:\n",
    "        print('password yang kamu masukkan salah')"
   ]
  }
 ],
 "metadata": {
  "kernelspec": {
   "display_name": "Python 3 (ipykernel)",
   "language": "python",
   "name": "python3"
  },
  "language_info": {
   "codemirror_mode": {
    "name": "ipython",
    "version": 3
   },
   "file_extension": ".py",
   "mimetype": "text/x-python",
   "name": "python",
   "nbconvert_exporter": "python",
   "pygments_lexer": "ipython3",
   "version": "3.11.5"
  }
 },
 "nbformat": 4,
 "nbformat_minor": 5
}
