{
 "cells": [
  {
   "cell_type": "code",
   "execution_count": 1,
   "id": "3eb8d654",
   "metadata": {},
   "outputs": [
    {
     "name": "stdout",
     "output_type": "stream",
     "text": [
      "10\n",
      "100\n"
     ]
    }
   ],
   "source": [
    "print(10)\n",
    "print(100)"
   ]
  },
  {
   "cell_type": "code",
   "execution_count": 2,
   "id": "c324218f",
   "metadata": {},
   "outputs": [
    {
     "name": "stdout",
     "output_type": "stream",
     "text": [
      "0.00042\n",
      "<class 'float'>\n"
     ]
    }
   ],
   "source": [
    "print(4.2E-4)\n",
    "print(type(4.2E-4))"
   ]
  },
  {
   "cell_type": "code",
   "execution_count": 3,
   "id": "e59cbf16",
   "metadata": {},
   "outputs": [
    {
     "data": {
      "text/plain": [
       "'Hello World'"
      ]
     },
     "metadata": {},
     "output_type": "display_data"
    },
    {
     "name": "stdout",
     "output_type": "stream",
     "text": [
      "Hello World\n",
      "<class 'str'>\n",
      "\"Hello World\"\n",
      "Can't\n",
      "\"She\" knows\n",
      " \"She\" knows she can't do it\" \n",
      "\n"
     ]
    }
   ],
   "source": [
    "display(\"Hello World\")\n",
    "print('Hello World')\n",
    "print(type(\"apa\"))\n",
    "print('\"Hello World\"')\n",
    "print(\"Can't\")\n",
    "print('\"She\" knows')\n",
    "print(''' \"She\" knows she can't do it\" ''')\n",
    "print('')"
   ]
  },
  {
   "cell_type": "code",
   "execution_count": 4,
   "id": "3f7d292b",
   "metadata": {},
   "outputs": [
    {
     "name": "stdout",
     "output_type": "stream",
     "text": [
      "True\n",
      "False\n",
      "1\n",
      "2\n",
      "0\n"
     ]
    }
   ],
   "source": [
    "print(True)\n",
    "print(False)\n",
    "\n",
    "print(True + False)\n",
    "print(True + True)\n",
    "print(False + False)"
   ]
  },
  {
   "cell_type": "code",
   "execution_count": 5,
   "id": "f886d1eb",
   "metadata": {},
   "outputs": [
    {
     "name": "stdout",
     "output_type": "stream",
     "text": [
      "b\n"
     ]
    },
    {
     "data": {
      "text/plain": [
       "500"
      ]
     },
     "execution_count": 5,
     "metadata": {},
     "output_type": "execute_result"
    }
   ],
   "source": [
    "a = 'b'\n",
    "print(a)\n",
    "\n",
    "a = 500\n",
    "a"
   ]
  },
  {
   "cell_type": "code",
   "execution_count": 6,
   "id": "1497256f",
   "metadata": {},
   "outputs": [
    {
     "name": "stdout",
     "output_type": "stream",
     "text": [
      "10\n",
      "10\n",
      "10\n",
      "1\n",
      "2\n",
      "a\n"
     ]
    }
   ],
   "source": [
    "q = w = e = 10\n",
    "print(q)\n",
    "print(w)\n",
    "print(e)\n",
    "\n",
    "z, x, y = 1, 2, 'a'\n",
    "print(z)\n",
    "print(x)\n",
    "print(y)"
   ]
  },
  {
   "cell_type": "code",
   "execution_count": 7,
   "id": "d0969dc1",
   "metadata": {},
   "outputs": [
    {
     "data": {
      "text/plain": [
       "'dor'"
      ]
     },
     "execution_count": 7,
     "metadata": {},
     "output_type": "execute_result"
    }
   ],
   "source": [
    "age = 25\n",
    "_shot1 = 'dor'\n",
    "_shot1"
   ]
  },
  {
   "cell_type": "code",
   "execution_count": 10,
   "id": "59d57976",
   "metadata": {},
   "outputs": [
    {
     "name": "stdout",
     "output_type": "stream",
     "text": [
      "7\n",
      "3\n",
      "10\n",
      "2.5\n",
      "2\n",
      "25\n",
      "1\n",
      "22\n"
     ]
    }
   ],
   "source": [
    "a = 5\n",
    "b = 2\n",
    "print(a + b) # penjumlahan\n",
    "print(a - b) # pengurangan\n",
    "print(a * b) # perkalian\n",
    "print(a / b) # pembagian desimal\n",
    "print(a // b) # pembagian integer\n",
    "print(a ** b) # pangkat\n",
    "print(a % b) # modulo\n",
    "\n",
    "print(a + b + 15)"
   ]
  },
  {
   "cell_type": "code",
   "execution_count": 11,
   "id": "8e1a02d8",
   "metadata": {},
   "outputs": [
    {
     "name": "stdout",
     "output_type": "stream",
     "text": [
      "False\n",
      "True\n",
      "True\n",
      "True\n",
      "True\n",
      "False\n",
      "False\n"
     ]
    }
   ],
   "source": [
    "a = 5\n",
    "b = 2\n",
    "c = 2\n",
    "print(a == b)\n",
    "print(c == b) #sama dengan\n",
    "print(a != b) #tidak sama dengan\n",
    "print(a > b) # besar dari\n",
    "print(a >= b) #besar dari sama dengan\n",
    "print(a < b) #kecil dari sama dengan\n",
    "print(a <= b) #kecil dari sama dengan"
   ]
  },
  {
   "cell_type": "code",
   "execution_count": 13,
   "id": "bbdedf1d",
   "metadata": {},
   "outputs": [
    {
     "name": "stdout",
     "output_type": "stream",
     "text": [
      "Python\n",
      "Hacktive8\n",
      "PyPyPyPyPy\n",
      "True\n",
      "False\n"
     ]
    }
   ],
   "source": [
    "q = 'Py'\n",
    "w = 'thon'\n",
    "print(q + w)\n",
    "print('Hacktive' + '8')\n",
    "print(q * a)\n",
    "print(q in 'Python')\n",
    "print(w in 'Pyton')"
   ]
  },
  {
   "cell_type": "code",
   "execution_count": 14,
   "id": "a82caf92",
   "metadata": {},
   "outputs": [
    {
     "name": "stdout",
     "output_type": "stream",
     "text": [
      "HACTIVE8 KAMPUS\n",
      "hactive8 kampus\n",
      "Hactive8 kampus\n",
      "hActIVe8 kAMPUs\n",
      "Hactive8 Kampus\n"
     ]
    }
   ],
   "source": [
    "h = 'HaCTivE8 KampuS'\n",
    "print(h.upper())\n",
    "print(h.lower())\n",
    "print(h.capitalize())\n",
    "print(h.swapcase())\n",
    "print(h.title())"
   ]
  },
  {
   "cell_type": "code",
   "execution_count": 18,
   "id": "111c437f",
   "metadata": {},
   "outputs": [],
   "source": [
    "#index ke 0  1  2    3    4           5            6    7   8  9  10\n",
    "daftar = [1, 2, 43, 'a', True, ['b', 300, False], 4.6, 1+1, a, q, w]\n",
    "# index minus                                               -3 -2 -1\n",
    "py = ['Python', 'KS19', 'weelll']\n",
    "# py = [12, 2, 10]"
   ]
  },
  {
   "cell_type": "code",
   "execution_count": 19,
   "id": "c16b18b3",
   "metadata": {},
   "outputs": [
    {
     "name": "stdout",
     "output_type": "stream",
     "text": [
      "[1, 2, 43, 'a', True, ['b', 300, False], 4.6, 2, 5, 'Py', 'thon', 'Python', 'KS19', 'weelll']\n",
      "['Python', 'KS19', 'weelll', 'Python', 'KS19', 'weelll', 'Python', 'KS19', 'weelll']\n",
      "11\n",
      "weelll\n",
      "KS19\n"
     ]
    }
   ],
   "source": [
    "# print(type(daftar))\n",
    "# print(daftar)\n",
    "# print(daftar[3])\n",
    "# print(daftar[5])\n",
    "# print(daftar[7])\n",
    "# print(daftar[-3])\n",
    "# print(daftar[1:6])\n",
    "print(daftar + py)\n",
    "print(py * 3)\n",
    "print(len(daftar))\n",
    "print(max(py))\n",
    "print(min(py))"
   ]
  },
  {
   "cell_type": "code",
   "execution_count": 21,
   "id": "308acbfa",
   "metadata": {},
   "outputs": [
    {
     "name": "stdout",
     "output_type": "stream",
     "text": [
      "[1, 2, 43, 'a', True, ['b', 300, False], 4.6, 2, ['Python', 'KS19', 'weelll'], 'Py', 'thon']\n",
      "[1, 2, 43, 'a', True, ['b', 300, False], 4.6, 2, ['Python', 'KS19', 'weelll'], 'udah malem', 'thon']\n",
      "[1, 2, 43, 'a', True, ['b', 300, False], 4.6, 2, ['Python', 'KS19', 'weelll'], 'udah malem', 'thon']\n",
      "[1.5, 'a', True, ['b', 300, False], 4.6, 2, ['Python', 'KS19', 'weelll'], 'udah malem', 'thon']\n"
     ]
    }
   ],
   "source": [
    "#index ke 0  1  2    3    4           5            6    7   8  9  10\n",
    "daftar = [1, 2, 43, 'a', True, ['b', 300, False], 4.6, 1+1, a, q, w]\n",
    "# index minus                                               -3 -2 -1\n",
    "py = ['Python', 'KS19', 'weelll']\n",
    "\n",
    "daftar[8] = py\n",
    "print(daftar)\n",
    "daftar[-2] = 'udah malem'\n",
    "print(daftar)\n",
    "# del daftar[3]\n",
    "print(daftar)\n",
    "daftar[:3] = [1.5]\n",
    "print(daftar)"
   ]
  },
  {
   "cell_type": "code",
   "execution_count": 22,
   "id": "e3d367b7",
   "metadata": {},
   "outputs": [
    {
     "name": "stdout",
     "output_type": "stream",
     "text": [
      "(1, 2, 43, 'a', True, ['b', 300, False], 4.6, 2, 5, 'Py', 'thon')\n",
      "(2, 43, 'a', True)\n"
     ]
    }
   ],
   "source": [
    "tapel = (1, 2, 43, 'a', True, ['b', 300, False], 4.6, 1+1, a, q, w)\n",
    "print(tapel)\n",
    "print(tapel[1:5])"
   ]
  },
  {
   "cell_type": "code",
   "execution_count": 23,
   "id": "d2a7b81b",
   "metadata": {},
   "outputs": [],
   "source": [
    "(z, x, y) = (1, 2, 'a')"
   ]
  },
  {
   "cell_type": "code",
   "execution_count": 24,
   "id": "4ab9361b",
   "metadata": {},
   "outputs": [
    {
     "data": {
      "text/plain": [
       "str"
      ]
     },
     "execution_count": 24,
     "metadata": {},
     "output_type": "execute_result"
    }
   ],
   "source": [
    "type(y)"
   ]
  },
  {
   "cell_type": "code",
   "execution_count": 25,
   "id": "4b65dd79",
   "metadata": {},
   "outputs": [
    {
     "name": "stdout",
     "output_type": "stream",
     "text": [
      "<class 'dict'>\n",
      "what\n",
      "{'apa': 'what', 'siapa': 'who', 'bagaimana': 'how', 'kapan': 'when'}\n",
      "{'siapa': 'who', 'bagaimana': 'how', 'kapan': 'when'}\n",
      "{'siapa': 'who', 'bagaimana': 'how', 'kapan': 'when'}\n"
     ]
    }
   ],
   "source": [
    "kamus = {\n",
    "    'apa':'what', 'siapa':'who', 'bagaimana':'how'\n",
    "}\n",
    "print(type(kamus))\n",
    "print(kamus['apa'])\n",
    "kamus['kapan'] = 'when'\n",
    "print(kamus)\n",
    "del kamus['apa']\n",
    "print(kamus)\n",
    "# kamus.clear()\n",
    "print(kamus)"
   ]
  },
  {
   "cell_type": "code",
   "execution_count": 27,
   "id": "ecc62cd0",
   "metadata": {},
   "outputs": [
    {
     "name": "stdout",
     "output_type": "stream",
     "text": [
      "{'kota': ['Palu'], 'jalan': 'R.E.Martadinata', 'nomor rumah': 12, 'pohon': ['cendana', 'mahoni', 'kelengkeng'], 'akses': {'mobil': 'bisa', 'TJ': {'bisa': 'tapi susah'}, 'ojol': 'tidak'}}\n",
      "mahoni\n",
      "tapi susah\n",
      "dict_items([('kota', ['Palu']), ('jalan', 'R.E.Martadinata'), ('nomor rumah', 12), ('pohon', ['cendana', 'mahoni', 'kelengkeng']), ('akses', {'mobil': 'bisa', 'TJ': {'bisa': 'tapi susah'}, 'ojol': 'tidak'})])\n",
      "\n",
      "dict_values([['Palu'], 'R.E.Martadinata', 12, ['cendana', 'mahoni', 'kelengkeng'], {'mobil': 'bisa', 'TJ': {'bisa': 'tapi susah'}, 'ojol': 'tidak'}])\n",
      "\n",
      "dict_keys(['kota', 'jalan', 'nomor rumah', 'pohon', 'akses'])\n"
     ]
    }
   ],
   "source": [
    "alamat = {}\n",
    "\n",
    "alamat['kota'] = ['Palu'] \n",
    "alamat['jalan'] = 'R.E.Martadinata'\n",
    "alamat['nomor rumah'] = 12\n",
    "alamat['pohon'] = ['cendana', 'mahoni', 'kelengkeng']\n",
    "alamat['akses'] = {'mobil':'bisa', 'TJ':{'bisa':'tapi susah'}, 'ojol':'tidak'}\n",
    "\n",
    "print(alamat)\n",
    "print(alamat['pohon'][1])\n",
    "print(alamat['akses']['TJ']['bisa'])\n",
    "print(alamat.items())\n",
    "print()\n",
    "print(alamat.values())\n",
    "print()\n",
    "print(alamat.keys())"
   ]
  },
  {
   "cell_type": "code",
   "execution_count": 28,
   "id": "390477d0",
   "metadata": {},
   "outputs": [
    {
     "data": {
      "text/plain": [
       "True"
      ]
     },
     "execution_count": 28,
     "metadata": {},
     "output_type": "execute_result"
    }
   ],
   "source": [
    "a = 10\n",
    "b = 2\n",
    "c = 10\n",
    "\n",
    "d = (\n",
    "    a == c\n",
    "    or c==a\n",
    "    or a == b\n",
    ")\n",
    "d"
   ]
  }
 ],
 "metadata": {
  "kernelspec": {
   "display_name": "Python 3 (ipykernel)",
   "language": "python",
   "name": "python3"
  },
  "language_info": {
   "codemirror_mode": {
    "name": "ipython",
    "version": 3
   },
   "file_extension": ".py",
   "mimetype": "text/x-python",
   "name": "python",
   "nbconvert_exporter": "python",
   "pygments_lexer": "ipython3",
   "version": "3.11.5"
  }
 },
 "nbformat": 4,
 "nbformat_minor": 5
}
