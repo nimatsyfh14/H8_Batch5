{
 "cells": [
  {
   "cell_type": "markdown",
   "id": "be9fb212",
   "metadata": {},
   "source": [
    "# Import Libraries"
   ]
  },
  {
   "cell_type": "code",
   "execution_count": 137,
   "id": "d3fb21b2",
   "metadata": {},
   "outputs": [],
   "source": [
    "import pandas as pd\n",
    "import numpy as np\n",
    "import matplotlib.pyplot as plt\n",
    "import seaborn as sns\n",
    "from scipy import stats"
   ]
  },
  {
   "cell_type": "markdown",
   "id": "e0799753",
   "metadata": {},
   "source": [
    "1. import pandas as pd : mengimpor library pandas dengan alias pd. Pandas digunakan untuk manipulasi dan analisis data tabular.\n",
    "\n",
    "2. import numpy as np : mengimpor library numpy dengan alias np. Numpy adalah library untuk operasi matematika dan manipulasi array multidimensi.\n",
    "\n",
    "3. import matplotlib.pyplot as plt : mengimpor library matplotlib dengan alias plt. Matplotlib adalah library untuk visualisasi data.\n",
    "\n",
    "4. import seaborn as sns : mengimpor library seaborn dengan alias sns. Seaborn adalah library untuk visualisasi data yang dibangun di atas matplotlib.\n",
    "\n",
    "5. from scipy import stats : mengimpor modul stats dari pustaka SciPy yang menyediakan berbagai algoritma dan fungsi matematika untuk keperluan ilmiah dan teknis."
   ]
  },
  {
   "cell_type": "markdown",
   "id": "9cc030f8",
   "metadata": {},
   "source": [
    "# Data Loading"
   ]
  },
  {
   "cell_type": "code",
   "execution_count": 138,
   "id": "1c9a3158",
   "metadata": {},
   "outputs": [],
   "source": [
    "nyc_rolling = pd.read_csv('nyc-rolling-sales.csv')"
   ]
  },
  {
   "cell_type": "markdown",
   "id": "1b429208",
   "metadata": {},
   "source": [
    "**nyc_rolling = pd.read_csv('nyc-rolling-sales.csv')** : digunakan untuk membaca dataset dari file CSV 'nyc-rolling-sales.csv' dan menyimpannya dalam sebuah objek DataFrame yang dinamai 'nyc_rolling'. Dataset ini berisi kumpulan data yang merupakan catatan setiap bangunan atau unit bangunan (apartemen, dll) yang terjual di pasar properti Kota New York selama periode 12 bulan."
   ]
  },
  {
   "cell_type": "code",
   "execution_count": 139,
   "id": "e8901bc6",
   "metadata": {
    "scrolled": false
   },
   "outputs": [
    {
     "data": {
      "text/html": [
       "<div>\n",
       "<style scoped>\n",
       "    .dataframe tbody tr th:only-of-type {\n",
       "        vertical-align: middle;\n",
       "    }\n",
       "\n",
       "    .dataframe tbody tr th {\n",
       "        vertical-align: top;\n",
       "    }\n",
       "\n",
       "    .dataframe thead th {\n",
       "        text-align: right;\n",
       "    }\n",
       "</style>\n",
       "<table border=\"1\" class=\"dataframe\">\n",
       "  <thead>\n",
       "    <tr style=\"text-align: right;\">\n",
       "      <th></th>\n",
       "      <th>Unnamed: 0</th>\n",
       "      <th>BOROUGH</th>\n",
       "      <th>NEIGHBORHOOD</th>\n",
       "      <th>BUILDING CLASS CATEGORY</th>\n",
       "      <th>TAX CLASS AT PRESENT</th>\n",
       "      <th>BLOCK</th>\n",
       "      <th>LOT</th>\n",
       "      <th>EASE-MENT</th>\n",
       "      <th>BUILDING CLASS AT PRESENT</th>\n",
       "      <th>ADDRESS</th>\n",
       "      <th>...</th>\n",
       "      <th>RESIDENTIAL UNITS</th>\n",
       "      <th>COMMERCIAL UNITS</th>\n",
       "      <th>TOTAL UNITS</th>\n",
       "      <th>LAND SQUARE FEET</th>\n",
       "      <th>GROSS SQUARE FEET</th>\n",
       "      <th>YEAR BUILT</th>\n",
       "      <th>TAX CLASS AT TIME OF SALE</th>\n",
       "      <th>BUILDING CLASS AT TIME OF SALE</th>\n",
       "      <th>SALE PRICE</th>\n",
       "      <th>SALE DATE</th>\n",
       "    </tr>\n",
       "  </thead>\n",
       "  <tbody>\n",
       "    <tr>\n",
       "      <th>0</th>\n",
       "      <td>4</td>\n",
       "      <td>1</td>\n",
       "      <td>ALPHABET CITY</td>\n",
       "      <td>07 RENTALS - WALKUP APARTMENTS</td>\n",
       "      <td>2A</td>\n",
       "      <td>392</td>\n",
       "      <td>6</td>\n",
       "      <td></td>\n",
       "      <td>C2</td>\n",
       "      <td>153 AVENUE B</td>\n",
       "      <td>...</td>\n",
       "      <td>5</td>\n",
       "      <td>0</td>\n",
       "      <td>5</td>\n",
       "      <td>1633</td>\n",
       "      <td>6440</td>\n",
       "      <td>1900</td>\n",
       "      <td>2</td>\n",
       "      <td>C2</td>\n",
       "      <td>6625000</td>\n",
       "      <td>2017-07-19 00:00:00</td>\n",
       "    </tr>\n",
       "    <tr>\n",
       "      <th>1</th>\n",
       "      <td>5</td>\n",
       "      <td>1</td>\n",
       "      <td>ALPHABET CITY</td>\n",
       "      <td>07 RENTALS - WALKUP APARTMENTS</td>\n",
       "      <td>2</td>\n",
       "      <td>399</td>\n",
       "      <td>26</td>\n",
       "      <td></td>\n",
       "      <td>C7</td>\n",
       "      <td>234 EAST 4TH   STREET</td>\n",
       "      <td>...</td>\n",
       "      <td>28</td>\n",
       "      <td>3</td>\n",
       "      <td>31</td>\n",
       "      <td>4616</td>\n",
       "      <td>18690</td>\n",
       "      <td>1900</td>\n",
       "      <td>2</td>\n",
       "      <td>C7</td>\n",
       "      <td>-</td>\n",
       "      <td>2016-12-14 00:00:00</td>\n",
       "    </tr>\n",
       "    <tr>\n",
       "      <th>2</th>\n",
       "      <td>6</td>\n",
       "      <td>1</td>\n",
       "      <td>ALPHABET CITY</td>\n",
       "      <td>07 RENTALS - WALKUP APARTMENTS</td>\n",
       "      <td>2</td>\n",
       "      <td>399</td>\n",
       "      <td>39</td>\n",
       "      <td></td>\n",
       "      <td>C7</td>\n",
       "      <td>197 EAST 3RD   STREET</td>\n",
       "      <td>...</td>\n",
       "      <td>16</td>\n",
       "      <td>1</td>\n",
       "      <td>17</td>\n",
       "      <td>2212</td>\n",
       "      <td>7803</td>\n",
       "      <td>1900</td>\n",
       "      <td>2</td>\n",
       "      <td>C7</td>\n",
       "      <td>-</td>\n",
       "      <td>2016-12-09 00:00:00</td>\n",
       "    </tr>\n",
       "    <tr>\n",
       "      <th>3</th>\n",
       "      <td>7</td>\n",
       "      <td>1</td>\n",
       "      <td>ALPHABET CITY</td>\n",
       "      <td>07 RENTALS - WALKUP APARTMENTS</td>\n",
       "      <td>2B</td>\n",
       "      <td>402</td>\n",
       "      <td>21</td>\n",
       "      <td></td>\n",
       "      <td>C4</td>\n",
       "      <td>154 EAST 7TH STREET</td>\n",
       "      <td>...</td>\n",
       "      <td>10</td>\n",
       "      <td>0</td>\n",
       "      <td>10</td>\n",
       "      <td>2272</td>\n",
       "      <td>6794</td>\n",
       "      <td>1913</td>\n",
       "      <td>2</td>\n",
       "      <td>C4</td>\n",
       "      <td>3936272</td>\n",
       "      <td>2016-09-23 00:00:00</td>\n",
       "    </tr>\n",
       "    <tr>\n",
       "      <th>4</th>\n",
       "      <td>8</td>\n",
       "      <td>1</td>\n",
       "      <td>ALPHABET CITY</td>\n",
       "      <td>07 RENTALS - WALKUP APARTMENTS</td>\n",
       "      <td>2A</td>\n",
       "      <td>404</td>\n",
       "      <td>55</td>\n",
       "      <td></td>\n",
       "      <td>C2</td>\n",
       "      <td>301 EAST 10TH   STREET</td>\n",
       "      <td>...</td>\n",
       "      <td>6</td>\n",
       "      <td>0</td>\n",
       "      <td>6</td>\n",
       "      <td>2369</td>\n",
       "      <td>4615</td>\n",
       "      <td>1900</td>\n",
       "      <td>2</td>\n",
       "      <td>C2</td>\n",
       "      <td>8000000</td>\n",
       "      <td>2016-11-17 00:00:00</td>\n",
       "    </tr>\n",
       "  </tbody>\n",
       "</table>\n",
       "<p>5 rows × 22 columns</p>\n",
       "</div>"
      ],
      "text/plain": [
       "   Unnamed: 0  BOROUGH   NEIGHBORHOOD  \\\n",
       "0           4        1  ALPHABET CITY   \n",
       "1           5        1  ALPHABET CITY   \n",
       "2           6        1  ALPHABET CITY   \n",
       "3           7        1  ALPHABET CITY   \n",
       "4           8        1  ALPHABET CITY   \n",
       "\n",
       "                       BUILDING CLASS CATEGORY TAX CLASS AT PRESENT  BLOCK  \\\n",
       "0  07 RENTALS - WALKUP APARTMENTS                                2A    392   \n",
       "1  07 RENTALS - WALKUP APARTMENTS                                 2    399   \n",
       "2  07 RENTALS - WALKUP APARTMENTS                                 2    399   \n",
       "3  07 RENTALS - WALKUP APARTMENTS                                2B    402   \n",
       "4  07 RENTALS - WALKUP APARTMENTS                                2A    404   \n",
       "\n",
       "   LOT EASE-MENT BUILDING CLASS AT PRESENT                 ADDRESS  ...  \\\n",
       "0    6                                  C2            153 AVENUE B  ...   \n",
       "1   26                                  C7   234 EAST 4TH   STREET  ...   \n",
       "2   39                                  C7   197 EAST 3RD   STREET  ...   \n",
       "3   21                                  C4     154 EAST 7TH STREET  ...   \n",
       "4   55                                  C2  301 EAST 10TH   STREET  ...   \n",
       "\n",
       "  RESIDENTIAL UNITS  COMMERCIAL UNITS  TOTAL UNITS  LAND SQUARE FEET  \\\n",
       "0                 5                 0            5              1633   \n",
       "1                28                 3           31              4616   \n",
       "2                16                 1           17              2212   \n",
       "3                10                 0           10              2272   \n",
       "4                 6                 0            6              2369   \n",
       "\n",
       "   GROSS SQUARE FEET YEAR BUILT TAX CLASS AT TIME OF SALE  \\\n",
       "0               6440       1900                         2   \n",
       "1              18690       1900                         2   \n",
       "2               7803       1900                         2   \n",
       "3               6794       1913                         2   \n",
       "4               4615       1900                         2   \n",
       "\n",
       "   BUILDING CLASS AT TIME OF SALE  SALE PRICE            SALE DATE  \n",
       "0                              C2     6625000  2017-07-19 00:00:00  \n",
       "1                              C7         -    2016-12-14 00:00:00  \n",
       "2                              C7         -    2016-12-09 00:00:00  \n",
       "3                              C4     3936272  2016-09-23 00:00:00  \n",
       "4                              C2     8000000  2016-11-17 00:00:00  \n",
       "\n",
       "[5 rows x 22 columns]"
      ]
     },
     "execution_count": 139,
     "metadata": {},
     "output_type": "execute_result"
    }
   ],
   "source": [
    "nyc_rolling.head()"
   ]
  },
  {
   "cell_type": "markdown",
   "id": "a28a7dcc",
   "metadata": {},
   "source": [
    "**nyc_rolling.head()** : digunakan untuk menampilkan lima baris pertama dari DataFrame 'nyc_rolling'"
   ]
  },
  {
   "cell_type": "code",
   "execution_count": 140,
   "id": "62a6c95b",
   "metadata": {
    "scrolled": false
   },
   "outputs": [
    {
     "data": {
      "text/html": [
       "<div>\n",
       "<style scoped>\n",
       "    .dataframe tbody tr th:only-of-type {\n",
       "        vertical-align: middle;\n",
       "    }\n",
       "\n",
       "    .dataframe tbody tr th {\n",
       "        vertical-align: top;\n",
       "    }\n",
       "\n",
       "    .dataframe thead th {\n",
       "        text-align: right;\n",
       "    }\n",
       "</style>\n",
       "<table border=\"1\" class=\"dataframe\">\n",
       "  <thead>\n",
       "    <tr style=\"text-align: right;\">\n",
       "      <th></th>\n",
       "      <th>Unnamed: 0</th>\n",
       "      <th>BOROUGH</th>\n",
       "      <th>NEIGHBORHOOD</th>\n",
       "      <th>BUILDING CLASS CATEGORY</th>\n",
       "      <th>TAX CLASS AT PRESENT</th>\n",
       "      <th>BLOCK</th>\n",
       "      <th>LOT</th>\n",
       "      <th>EASE-MENT</th>\n",
       "      <th>BUILDING CLASS AT PRESENT</th>\n",
       "      <th>ADDRESS</th>\n",
       "      <th>...</th>\n",
       "      <th>RESIDENTIAL UNITS</th>\n",
       "      <th>COMMERCIAL UNITS</th>\n",
       "      <th>TOTAL UNITS</th>\n",
       "      <th>LAND SQUARE FEET</th>\n",
       "      <th>GROSS SQUARE FEET</th>\n",
       "      <th>YEAR BUILT</th>\n",
       "      <th>TAX CLASS AT TIME OF SALE</th>\n",
       "      <th>BUILDING CLASS AT TIME OF SALE</th>\n",
       "      <th>SALE PRICE</th>\n",
       "      <th>SALE DATE</th>\n",
       "    </tr>\n",
       "  </thead>\n",
       "  <tbody>\n",
       "    <tr>\n",
       "      <th>84543</th>\n",
       "      <td>8409</td>\n",
       "      <td>5</td>\n",
       "      <td>WOODROW</td>\n",
       "      <td>02 TWO FAMILY DWELLINGS</td>\n",
       "      <td>1</td>\n",
       "      <td>7349</td>\n",
       "      <td>34</td>\n",
       "      <td></td>\n",
       "      <td>B9</td>\n",
       "      <td>37 QUAIL LANE</td>\n",
       "      <td>...</td>\n",
       "      <td>2</td>\n",
       "      <td>0</td>\n",
       "      <td>2</td>\n",
       "      <td>2400</td>\n",
       "      <td>2575</td>\n",
       "      <td>1998</td>\n",
       "      <td>1</td>\n",
       "      <td>B9</td>\n",
       "      <td>450000</td>\n",
       "      <td>2016-11-28 00:00:00</td>\n",
       "    </tr>\n",
       "    <tr>\n",
       "      <th>84544</th>\n",
       "      <td>8410</td>\n",
       "      <td>5</td>\n",
       "      <td>WOODROW</td>\n",
       "      <td>02 TWO FAMILY DWELLINGS</td>\n",
       "      <td>1</td>\n",
       "      <td>7349</td>\n",
       "      <td>78</td>\n",
       "      <td></td>\n",
       "      <td>B9</td>\n",
       "      <td>32 PHEASANT LANE</td>\n",
       "      <td>...</td>\n",
       "      <td>2</td>\n",
       "      <td>0</td>\n",
       "      <td>2</td>\n",
       "      <td>2498</td>\n",
       "      <td>2377</td>\n",
       "      <td>1998</td>\n",
       "      <td>1</td>\n",
       "      <td>B9</td>\n",
       "      <td>550000</td>\n",
       "      <td>2017-04-21 00:00:00</td>\n",
       "    </tr>\n",
       "    <tr>\n",
       "      <th>84545</th>\n",
       "      <td>8411</td>\n",
       "      <td>5</td>\n",
       "      <td>WOODROW</td>\n",
       "      <td>02 TWO FAMILY DWELLINGS</td>\n",
       "      <td>1</td>\n",
       "      <td>7351</td>\n",
       "      <td>60</td>\n",
       "      <td></td>\n",
       "      <td>B2</td>\n",
       "      <td>49 PITNEY AVENUE</td>\n",
       "      <td>...</td>\n",
       "      <td>2</td>\n",
       "      <td>0</td>\n",
       "      <td>2</td>\n",
       "      <td>4000</td>\n",
       "      <td>1496</td>\n",
       "      <td>1925</td>\n",
       "      <td>1</td>\n",
       "      <td>B2</td>\n",
       "      <td>460000</td>\n",
       "      <td>2017-07-05 00:00:00</td>\n",
       "    </tr>\n",
       "    <tr>\n",
       "      <th>84546</th>\n",
       "      <td>8412</td>\n",
       "      <td>5</td>\n",
       "      <td>WOODROW</td>\n",
       "      <td>22 STORE BUILDINGS</td>\n",
       "      <td>4</td>\n",
       "      <td>7100</td>\n",
       "      <td>28</td>\n",
       "      <td></td>\n",
       "      <td>K6</td>\n",
       "      <td>2730 ARTHUR KILL ROAD</td>\n",
       "      <td>...</td>\n",
       "      <td>0</td>\n",
       "      <td>7</td>\n",
       "      <td>7</td>\n",
       "      <td>208033</td>\n",
       "      <td>64117</td>\n",
       "      <td>2001</td>\n",
       "      <td>4</td>\n",
       "      <td>K6</td>\n",
       "      <td>11693337</td>\n",
       "      <td>2016-12-21 00:00:00</td>\n",
       "    </tr>\n",
       "    <tr>\n",
       "      <th>84547</th>\n",
       "      <td>8413</td>\n",
       "      <td>5</td>\n",
       "      <td>WOODROW</td>\n",
       "      <td>35 INDOOR PUBLIC AND CULTURAL FACILITIES</td>\n",
       "      <td>4</td>\n",
       "      <td>7105</td>\n",
       "      <td>679</td>\n",
       "      <td></td>\n",
       "      <td>P9</td>\n",
       "      <td>155 CLAY PIT ROAD</td>\n",
       "      <td>...</td>\n",
       "      <td>0</td>\n",
       "      <td>1</td>\n",
       "      <td>1</td>\n",
       "      <td>10796</td>\n",
       "      <td>2400</td>\n",
       "      <td>2006</td>\n",
       "      <td>4</td>\n",
       "      <td>P9</td>\n",
       "      <td>69300</td>\n",
       "      <td>2016-10-27 00:00:00</td>\n",
       "    </tr>\n",
       "  </tbody>\n",
       "</table>\n",
       "<p>5 rows × 22 columns</p>\n",
       "</div>"
      ],
      "text/plain": [
       "       Unnamed: 0  BOROUGH NEIGHBORHOOD  \\\n",
       "84543        8409        5      WOODROW   \n",
       "84544        8410        5      WOODROW   \n",
       "84545        8411        5      WOODROW   \n",
       "84546        8412        5      WOODROW   \n",
       "84547        8413        5      WOODROW   \n",
       "\n",
       "                           BUILDING CLASS CATEGORY TAX CLASS AT PRESENT  \\\n",
       "84543  02 TWO FAMILY DWELLINGS                                        1   \n",
       "84544  02 TWO FAMILY DWELLINGS                                        1   \n",
       "84545  02 TWO FAMILY DWELLINGS                                        1   \n",
       "84546  22 STORE BUILDINGS                                             4   \n",
       "84547  35 INDOOR PUBLIC AND CULTURAL FACILITIES                       4   \n",
       "\n",
       "       BLOCK  LOT EASE-MENT BUILDING CLASS AT PRESENT                ADDRESS  \\\n",
       "84543   7349   34                                  B9          37 QUAIL LANE   \n",
       "84544   7349   78                                  B9       32 PHEASANT LANE   \n",
       "84545   7351   60                                  B2       49 PITNEY AVENUE   \n",
       "84546   7100   28                                  K6  2730 ARTHUR KILL ROAD   \n",
       "84547   7105  679                                  P9      155 CLAY PIT ROAD   \n",
       "\n",
       "       ... RESIDENTIAL UNITS  COMMERCIAL UNITS  TOTAL UNITS  LAND SQUARE FEET  \\\n",
       "84543  ...                 2                 0            2              2400   \n",
       "84544  ...                 2                 0            2              2498   \n",
       "84545  ...                 2                 0            2              4000   \n",
       "84546  ...                 0                 7            7            208033   \n",
       "84547  ...                 0                 1            1             10796   \n",
       "\n",
       "       GROSS SQUARE FEET YEAR BUILT TAX CLASS AT TIME OF SALE  \\\n",
       "84543               2575       1998                         1   \n",
       "84544               2377       1998                         1   \n",
       "84545               1496       1925                         1   \n",
       "84546              64117       2001                         4   \n",
       "84547               2400       2006                         4   \n",
       "\n",
       "       BUILDING CLASS AT TIME OF SALE  SALE PRICE            SALE DATE  \n",
       "84543                              B9      450000  2016-11-28 00:00:00  \n",
       "84544                              B9      550000  2017-04-21 00:00:00  \n",
       "84545                              B2      460000  2017-07-05 00:00:00  \n",
       "84546                              K6    11693337  2016-12-21 00:00:00  \n",
       "84547                              P9       69300  2016-10-27 00:00:00  \n",
       "\n",
       "[5 rows x 22 columns]"
      ]
     },
     "execution_count": 140,
     "metadata": {},
     "output_type": "execute_result"
    }
   ],
   "source": [
    "nyc_rolling.tail()"
   ]
  },
  {
   "cell_type": "markdown",
   "id": "534f99e2",
   "metadata": {},
   "source": [
    "**nyc_rolling.tail()** : digunakan untuk menampilkan beberapa baris terakhir dari DataFrame nyc_rolling."
   ]
  },
  {
   "cell_type": "code",
   "execution_count": 141,
   "id": "c008b4e6",
   "metadata": {
    "scrolled": false
   },
   "outputs": [
    {
     "name": "stdout",
     "output_type": "stream",
     "text": [
      "<class 'pandas.core.frame.DataFrame'>\n",
      "RangeIndex: 84548 entries, 0 to 84547\n",
      "Data columns (total 22 columns):\n",
      " #   Column                          Non-Null Count  Dtype \n",
      "---  ------                          --------------  ----- \n",
      " 0   Unnamed: 0                      84548 non-null  int64 \n",
      " 1   BOROUGH                         84548 non-null  int64 \n",
      " 2   NEIGHBORHOOD                    84548 non-null  object\n",
      " 3   BUILDING CLASS CATEGORY         84548 non-null  object\n",
      " 4   TAX CLASS AT PRESENT            84548 non-null  object\n",
      " 5   BLOCK                           84548 non-null  int64 \n",
      " 6   LOT                             84548 non-null  int64 \n",
      " 7   EASE-MENT                       84548 non-null  object\n",
      " 8   BUILDING CLASS AT PRESENT       84548 non-null  object\n",
      " 9   ADDRESS                         84548 non-null  object\n",
      " 10  APARTMENT NUMBER                84548 non-null  object\n",
      " 11  ZIP CODE                        84548 non-null  int64 \n",
      " 12  RESIDENTIAL UNITS               84548 non-null  int64 \n",
      " 13  COMMERCIAL UNITS                84548 non-null  int64 \n",
      " 14  TOTAL UNITS                     84548 non-null  int64 \n",
      " 15  LAND SQUARE FEET                84548 non-null  object\n",
      " 16  GROSS SQUARE FEET               84548 non-null  object\n",
      " 17  YEAR BUILT                      84548 non-null  int64 \n",
      " 18  TAX CLASS AT TIME OF SALE       84548 non-null  int64 \n",
      " 19  BUILDING CLASS AT TIME OF SALE  84548 non-null  object\n",
      " 20  SALE PRICE                      84548 non-null  object\n",
      " 21  SALE DATE                       84548 non-null  object\n",
      "dtypes: int64(10), object(12)\n",
      "memory usage: 14.2+ MB\n"
     ]
    }
   ],
   "source": [
    "nyc_rolling.info()"
   ]
  },
  {
   "cell_type": "markdown",
   "id": "08a4126d",
   "metadata": {},
   "source": [
    "**nyc_rolling.info()** : digunakan untuk memberikan informasi terperinci tentang DataFrame nyc_rolling"
   ]
  },
  {
   "cell_type": "code",
   "execution_count": 142,
   "id": "e6df90cb",
   "metadata": {
    "scrolled": true
   },
   "outputs": [
    {
     "data": {
      "text/plain": [
       "(84548, 22)"
      ]
     },
     "execution_count": 142,
     "metadata": {},
     "output_type": "execute_result"
    }
   ],
   "source": [
    "nyc_rolling.shape"
   ]
  },
  {
   "cell_type": "markdown",
   "id": "d5e818b2",
   "metadata": {},
   "source": [
    "**nyc_rolling.shape** : digunakan untuk mendapatkan dimensi dari DataFrame nyc_rolling yang menyatakan jumlah baris dan kolom dalam DataFrame. \n",
    "pada output di atas menandakan bahwa DataFrame ini memiliki 84548 baris dan 22 kolom"
   ]
  },
  {
   "cell_type": "markdown",
   "id": "7f88911c",
   "metadata": {},
   "source": [
    "# Data Cleaning"
   ]
  },
  {
   "cell_type": "code",
   "execution_count": 143,
   "id": "56d05328",
   "metadata": {
    "scrolled": false
   },
   "outputs": [
    {
     "data": {
      "text/plain": [
       "Unnamed: 0                        False\n",
       "BOROUGH                           False\n",
       "NEIGHBORHOOD                      False\n",
       "BUILDING CLASS CATEGORY           False\n",
       "TAX CLASS AT PRESENT              False\n",
       "BLOCK                             False\n",
       "LOT                               False\n",
       "EASE-MENT                         False\n",
       "BUILDING CLASS AT PRESENT         False\n",
       "ADDRESS                           False\n",
       "APARTMENT NUMBER                  False\n",
       "ZIP CODE                          False\n",
       "RESIDENTIAL UNITS                 False\n",
       "COMMERCIAL UNITS                  False\n",
       "TOTAL UNITS                       False\n",
       "LAND SQUARE FEET                  False\n",
       "GROSS SQUARE FEET                 False\n",
       "YEAR BUILT                        False\n",
       "TAX CLASS AT TIME OF SALE         False\n",
       "BUILDING CLASS AT TIME OF SALE    False\n",
       "SALE PRICE                        False\n",
       "SALE DATE                         False\n",
       "dtype: bool"
      ]
     },
     "execution_count": 143,
     "metadata": {},
     "output_type": "execute_result"
    }
   ],
   "source": [
    "nyc_rolling.isnull().any()"
   ]
  },
  {
   "cell_type": "markdown",
   "id": "b9835bc7",
   "metadata": {},
   "source": [
    "**nyc_rolling.isnull().any()** :  digunakan untuk memeriksa apakah terdapat nilai NaN (Not a Number) atau nilai yang hilang pada setiap kolom DataFrame nyc_rolling.\n",
    "Pada output diatas dapat menghasilkan nilai false yang berarti tidak ada nilai yang hilang dalam kolom tersebut."
   ]
  },
  {
   "cell_type": "code",
   "execution_count": 144,
   "id": "14418afc",
   "metadata": {
    "scrolled": true
   },
   "outputs": [
    {
     "data": {
      "text/html": [
       "<div>\n",
       "<style scoped>\n",
       "    .dataframe tbody tr th:only-of-type {\n",
       "        vertical-align: middle;\n",
       "    }\n",
       "\n",
       "    .dataframe tbody tr th {\n",
       "        vertical-align: top;\n",
       "    }\n",
       "\n",
       "    .dataframe thead th {\n",
       "        text-align: right;\n",
       "    }\n",
       "</style>\n",
       "<table border=\"1\" class=\"dataframe\">\n",
       "  <thead>\n",
       "    <tr style=\"text-align: right;\">\n",
       "      <th></th>\n",
       "      <th>Unnamed: 0</th>\n",
       "      <th>BOROUGH</th>\n",
       "      <th>BLOCK</th>\n",
       "      <th>LOT</th>\n",
       "      <th>ZIP CODE</th>\n",
       "      <th>RESIDENTIAL UNITS</th>\n",
       "      <th>COMMERCIAL UNITS</th>\n",
       "      <th>TOTAL UNITS</th>\n",
       "      <th>YEAR BUILT</th>\n",
       "      <th>TAX CLASS AT TIME OF SALE</th>\n",
       "    </tr>\n",
       "  </thead>\n",
       "  <tbody>\n",
       "    <tr>\n",
       "      <th>count</th>\n",
       "      <td>84548.000000</td>\n",
       "      <td>84548.000000</td>\n",
       "      <td>84548.000000</td>\n",
       "      <td>84548.000000</td>\n",
       "      <td>84548.000000</td>\n",
       "      <td>84548.000000</td>\n",
       "      <td>84548.000000</td>\n",
       "      <td>84548.000000</td>\n",
       "      <td>84548.000000</td>\n",
       "      <td>84548.000000</td>\n",
       "    </tr>\n",
       "    <tr>\n",
       "      <th>mean</th>\n",
       "      <td>10344.359878</td>\n",
       "      <td>2.998758</td>\n",
       "      <td>4237.218976</td>\n",
       "      <td>376.224015</td>\n",
       "      <td>10731.991614</td>\n",
       "      <td>2.025264</td>\n",
       "      <td>0.193559</td>\n",
       "      <td>2.249184</td>\n",
       "      <td>1789.322976</td>\n",
       "      <td>1.657485</td>\n",
       "    </tr>\n",
       "    <tr>\n",
       "      <th>std</th>\n",
       "      <td>7151.779436</td>\n",
       "      <td>1.289790</td>\n",
       "      <td>3568.263407</td>\n",
       "      <td>658.136814</td>\n",
       "      <td>1290.879147</td>\n",
       "      <td>16.721037</td>\n",
       "      <td>8.713183</td>\n",
       "      <td>18.972584</td>\n",
       "      <td>537.344993</td>\n",
       "      <td>0.819341</td>\n",
       "    </tr>\n",
       "    <tr>\n",
       "      <th>min</th>\n",
       "      <td>4.000000</td>\n",
       "      <td>1.000000</td>\n",
       "      <td>1.000000</td>\n",
       "      <td>1.000000</td>\n",
       "      <td>0.000000</td>\n",
       "      <td>0.000000</td>\n",
       "      <td>0.000000</td>\n",
       "      <td>0.000000</td>\n",
       "      <td>0.000000</td>\n",
       "      <td>1.000000</td>\n",
       "    </tr>\n",
       "    <tr>\n",
       "      <th>25%</th>\n",
       "      <td>4231.000000</td>\n",
       "      <td>2.000000</td>\n",
       "      <td>1322.750000</td>\n",
       "      <td>22.000000</td>\n",
       "      <td>10305.000000</td>\n",
       "      <td>0.000000</td>\n",
       "      <td>0.000000</td>\n",
       "      <td>1.000000</td>\n",
       "      <td>1920.000000</td>\n",
       "      <td>1.000000</td>\n",
       "    </tr>\n",
       "    <tr>\n",
       "      <th>50%</th>\n",
       "      <td>8942.000000</td>\n",
       "      <td>3.000000</td>\n",
       "      <td>3311.000000</td>\n",
       "      <td>50.000000</td>\n",
       "      <td>11209.000000</td>\n",
       "      <td>1.000000</td>\n",
       "      <td>0.000000</td>\n",
       "      <td>1.000000</td>\n",
       "      <td>1940.000000</td>\n",
       "      <td>2.000000</td>\n",
       "    </tr>\n",
       "    <tr>\n",
       "      <th>75%</th>\n",
       "      <td>15987.250000</td>\n",
       "      <td>4.000000</td>\n",
       "      <td>6281.000000</td>\n",
       "      <td>1001.000000</td>\n",
       "      <td>11357.000000</td>\n",
       "      <td>2.000000</td>\n",
       "      <td>0.000000</td>\n",
       "      <td>2.000000</td>\n",
       "      <td>1965.000000</td>\n",
       "      <td>2.000000</td>\n",
       "    </tr>\n",
       "    <tr>\n",
       "      <th>max</th>\n",
       "      <td>26739.000000</td>\n",
       "      <td>5.000000</td>\n",
       "      <td>16322.000000</td>\n",
       "      <td>9106.000000</td>\n",
       "      <td>11694.000000</td>\n",
       "      <td>1844.000000</td>\n",
       "      <td>2261.000000</td>\n",
       "      <td>2261.000000</td>\n",
       "      <td>2017.000000</td>\n",
       "      <td>4.000000</td>\n",
       "    </tr>\n",
       "  </tbody>\n",
       "</table>\n",
       "</div>"
      ],
      "text/plain": [
       "         Unnamed: 0       BOROUGH         BLOCK           LOT      ZIP CODE  \\\n",
       "count  84548.000000  84548.000000  84548.000000  84548.000000  84548.000000   \n",
       "mean   10344.359878      2.998758   4237.218976    376.224015  10731.991614   \n",
       "std     7151.779436      1.289790   3568.263407    658.136814   1290.879147   \n",
       "min        4.000000      1.000000      1.000000      1.000000      0.000000   \n",
       "25%     4231.000000      2.000000   1322.750000     22.000000  10305.000000   \n",
       "50%     8942.000000      3.000000   3311.000000     50.000000  11209.000000   \n",
       "75%    15987.250000      4.000000   6281.000000   1001.000000  11357.000000   \n",
       "max    26739.000000      5.000000  16322.000000   9106.000000  11694.000000   \n",
       "\n",
       "       RESIDENTIAL UNITS  COMMERCIAL UNITS   TOTAL UNITS    YEAR BUILT  \\\n",
       "count       84548.000000      84548.000000  84548.000000  84548.000000   \n",
       "mean            2.025264          0.193559      2.249184   1789.322976   \n",
       "std            16.721037          8.713183     18.972584    537.344993   \n",
       "min             0.000000          0.000000      0.000000      0.000000   \n",
       "25%             0.000000          0.000000      1.000000   1920.000000   \n",
       "50%             1.000000          0.000000      1.000000   1940.000000   \n",
       "75%             2.000000          0.000000      2.000000   1965.000000   \n",
       "max          1844.000000       2261.000000   2261.000000   2017.000000   \n",
       "\n",
       "       TAX CLASS AT TIME OF SALE  \n",
       "count               84548.000000  \n",
       "mean                    1.657485  \n",
       "std                     0.819341  \n",
       "min                     1.000000  \n",
       "25%                     1.000000  \n",
       "50%                     2.000000  \n",
       "75%                     2.000000  \n",
       "max                     4.000000  "
      ]
     },
     "execution_count": 144,
     "metadata": {},
     "output_type": "execute_result"
    }
   ],
   "source": [
    "nyc_rolling.describe()"
   ]
  },
  {
   "cell_type": "markdown",
   "id": "98b3d812",
   "metadata": {},
   "source": [
    "**nyc_rolling.describe()** : digunakan untuk menghasilkan ringkasan statistik deskriptif dari kolom-kolom numerik dalam DataFrame nyc_rolling"
   ]
  },
  {
   "cell_type": "code",
   "execution_count": 145,
   "id": "0d1241ea",
   "metadata": {},
   "outputs": [],
   "source": [
    "nyc_rolling = nyc_rolling.dropna(subset=['SALE PRICE'])"
   ]
  },
  {
   "cell_type": "markdown",
   "id": "5c6c7706",
   "metadata": {},
   "source": [
    "**Progrram di atas** : digunakan untuk menghapus baris (entries) dari DataFrame nyc_rolling yang memiliki nilai kosong (NaN) pada kolom 'SALE PRICE'."
   ]
  },
  {
   "cell_type": "code",
   "execution_count": 146,
   "id": "38ce551b",
   "metadata": {},
   "outputs": [],
   "source": [
    "nyc_rolling['SALE DATE'] = pd.to_datetime(nyc_rolling['SALE DATE'], errors='coerce')"
   ]
  },
  {
   "cell_type": "markdown",
   "id": "40d11ee0",
   "metadata": {},
   "source": [
    "**Program di atas** : digunakan untuk mengonversi kolom 'SALE DATE' dalam DataFrame nyc_rolling menjadi tipe data datetime."
   ]
  },
  {
   "cell_type": "code",
   "execution_count": 147,
   "id": "ba909300",
   "metadata": {},
   "outputs": [],
   "source": [
    "kolom_tidak_diperlukan = ['NEIGHBORHOOD']\n",
    "nyc_rolling = nyc_rolling.drop(columns=kolom_tidak_diperlukan, axis=1)"
   ]
  },
  {
   "cell_type": "markdown",
   "id": "a3db0856",
   "metadata": {},
   "source": [
    "**Program di atas** : digunakan untuk menghapus kolom yang tidak diperlukan dari DataFrame nyc_rolling dan NEIGHBORHOOD adalah kolom yang di hapus."
   ]
  },
  {
   "cell_type": "code",
   "execution_count": 148,
   "id": "9a972de9",
   "metadata": {},
   "outputs": [],
   "source": [
    "nyc_rolling = nyc_rolling.drop_duplicates()"
   ]
  },
  {
   "cell_type": "markdown",
   "id": "ad7a8f05",
   "metadata": {},
   "source": [
    "**Program di atas** : digunakan untuk menghapus baris duplikat dari DataFrame nyc_rolling yang dimana baris duplikat adalah baris yang memiliki nilai yang identik pada seluruh kolomnya."
   ]
  },
  {
   "cell_type": "code",
   "execution_count": 149,
   "id": "9ed694fa",
   "metadata": {
    "scrolled": true
   },
   "outputs": [
    {
     "data": {
      "text/plain": [
       "Unnamed: 0                        0\n",
       "BOROUGH                           0\n",
       "BUILDING CLASS CATEGORY           0\n",
       "TAX CLASS AT PRESENT              0\n",
       "BLOCK                             0\n",
       "LOT                               0\n",
       "EASE-MENT                         0\n",
       "BUILDING CLASS AT PRESENT         0\n",
       "ADDRESS                           0\n",
       "APARTMENT NUMBER                  0\n",
       "ZIP CODE                          0\n",
       "RESIDENTIAL UNITS                 0\n",
       "COMMERCIAL UNITS                  0\n",
       "TOTAL UNITS                       0\n",
       "LAND SQUARE FEET                  0\n",
       "GROSS SQUARE FEET                 0\n",
       "YEAR BUILT                        0\n",
       "TAX CLASS AT TIME OF SALE         0\n",
       "BUILDING CLASS AT TIME OF SALE    0\n",
       "SALE PRICE                        0\n",
       "SALE DATE                         0\n",
       "dtype: int64"
      ]
     },
     "execution_count": 149,
     "metadata": {},
     "output_type": "execute_result"
    }
   ],
   "source": [
    "nyc_rolling.isnull().sum()"
   ]
  },
  {
   "cell_type": "markdown",
   "id": "90abc515",
   "metadata": {},
   "source": [
    "**nyc_rolling.isnull().sum()** : digunakan untuk menghitung jumlah nilai null (NaN) dalam setiap kolom DataFrame nyc_rolling."
   ]
  },
  {
   "cell_type": "code",
   "execution_count": 150,
   "id": "48372a44",
   "metadata": {},
   "outputs": [],
   "source": [
    "missing_values = nyc_rolling.isnull().sum()"
   ]
  },
  {
   "cell_type": "markdown",
   "id": "5aa93caa",
   "metadata": {},
   "source": [
    "**Program di atas** : digunakan untuk menghitung jumlah nilai null (NaN) dalam setiap kolom DataFrame nyc_rolling dan menyimpan hasilnya dalam variabel missing_values"
   ]
  },
  {
   "cell_type": "code",
   "execution_count": 151,
   "id": "fdfd1c77",
   "metadata": {
    "scrolled": true
   },
   "outputs": [
    {
     "name": "stdout",
     "output_type": "stream",
     "text": [
      "Kolom dengan nilai-nilai yang hilang:\n",
      "Series([], dtype: int64)\n"
     ]
    }
   ],
   "source": [
    "print(\"Kolom dengan nilai-nilai yang hilang:\")\n",
    "print(missing_values[missing_values > 0])"
   ]
  },
  {
   "cell_type": "markdown",
   "id": "e63946b8",
   "metadata": {},
   "source": [
    "**Program di atas** : digunakan untuk mencetak kolom-kolom yang memiliki nilai-nilai yang hilang (NaN) dalam DataFrame nyc_rolling"
   ]
  },
  {
   "cell_type": "markdown",
   "id": "e588c25a",
   "metadata": {},
   "source": [
    "# Data Preprocessing"
   ]
  },
  {
   "cell_type": "code",
   "execution_count": 152,
   "id": "336e9b39",
   "metadata": {},
   "outputs": [],
   "source": [
    "nyc_rolling = nyc_rolling[nyc_rolling['SALE PRICE'].apply(lambda x: x.isnumeric())]"
   ]
  },
  {
   "cell_type": "markdown",
   "id": "282654b0",
   "metadata": {},
   "source": [
    "**Program di atas** : digunakan untuk memfilter baris-baris pada DataFrame nyc_rolling di mana kolom 'SALE PRICE' hanya berisi nilai numerik. Dengan menggunakan metode apply dan fungsi lambda, setiap nilai di kolom 'SALE PRICE' diperiksa apakah bersifat numerik atau tidak menggunakan metode isnumeric()."
   ]
  },
  {
   "cell_type": "code",
   "execution_count": 153,
   "id": "a36537af",
   "metadata": {},
   "outputs": [],
   "source": [
    "nyc_rolling['SALE PRICE'] = pd.to_numeric(nyc_rolling['SALE PRICE'], errors='coerce')"
   ]
  },
  {
   "cell_type": "markdown",
   "id": "62a528e1",
   "metadata": {},
   "source": [
    "**Program di atas** : digunakan untuk mengonversi kolom 'SALE PRICE' dalam DataFrame nyc_rolling menjadi tipe data numerik menggunakan fungsi pd.to_numeric(). Dengan menetapkan parameter errors='coerce', jika ada nilai yang tidak dapat diubah menjadi tipe data numerik, nilai tersebut akan diatur menjadi NaN (Not a Number)."
   ]
  },
  {
   "cell_type": "code",
   "execution_count": 154,
   "id": "5e0534d3",
   "metadata": {},
   "outputs": [],
   "source": [
    "nyc_rolling['SALE DATE'] = pd.to_datetime(nyc_rolling['SALE DATE'], errors='coerce')"
   ]
  },
  {
   "cell_type": "markdown",
   "id": "2c1682d8",
   "metadata": {},
   "source": [
    "**Program di atas** : digunakan untuk mengonversi kolom 'SALE DATE' dalam DataFrame nyc_rolling menjadi tipe data datetime menggunakan fungsi pd.to_datetime(). Dengan parameter errors='coerce', jika ada nilai yang tidak dapat diubah menjadi tipe data datetime, nilai tersebut akan diatur menjadi NaT (Not a Time)."
   ]
  },
  {
   "cell_type": "code",
   "execution_count": 155,
   "id": "ea00ba44",
   "metadata": {
    "scrolled": true
   },
   "outputs": [
    {
     "name": "stdout",
     "output_type": "stream",
     "text": [
      "\n",
      "Info setelah cleaning:\n",
      "<class 'pandas.core.frame.DataFrame'>\n",
      "Index: 69987 entries, 0 to 84547\n",
      "Data columns (total 21 columns):\n",
      " #   Column                          Non-Null Count  Dtype         \n",
      "---  ------                          --------------  -----         \n",
      " 0   Unnamed: 0                      69987 non-null  int64         \n",
      " 1   BOROUGH                         69987 non-null  int64         \n",
      " 2   BUILDING CLASS CATEGORY         69987 non-null  object        \n",
      " 3   TAX CLASS AT PRESENT            69987 non-null  object        \n",
      " 4   BLOCK                           69987 non-null  int64         \n",
      " 5   LOT                             69987 non-null  int64         \n",
      " 6   EASE-MENT                       69987 non-null  object        \n",
      " 7   BUILDING CLASS AT PRESENT       69987 non-null  object        \n",
      " 8   ADDRESS                         69987 non-null  object        \n",
      " 9   APARTMENT NUMBER                69987 non-null  object        \n",
      " 10  ZIP CODE                        69987 non-null  int64         \n",
      " 11  RESIDENTIAL UNITS               69987 non-null  int64         \n",
      " 12  COMMERCIAL UNITS                69987 non-null  int64         \n",
      " 13  TOTAL UNITS                     69987 non-null  int64         \n",
      " 14  LAND SQUARE FEET                69987 non-null  object        \n",
      " 15  GROSS SQUARE FEET               69987 non-null  object        \n",
      " 16  YEAR BUILT                      69987 non-null  int64         \n",
      " 17  TAX CLASS AT TIME OF SALE       69987 non-null  int64         \n",
      " 18  BUILDING CLASS AT TIME OF SALE  69987 non-null  object        \n",
      " 19  SALE PRICE                      69987 non-null  int64         \n",
      " 20  SALE DATE                       69987 non-null  datetime64[ns]\n",
      "dtypes: datetime64[ns](1), int64(11), object(9)\n",
      "memory usage: 11.7+ MB\n",
      "None\n"
     ]
    }
   ],
   "source": [
    "print(\"\\nInfo setelah cleaning:\")\n",
    "print(nyc_rolling.info())"
   ]
  },
  {
   "cell_type": "markdown",
   "id": "336557aa",
   "metadata": {},
   "source": [
    "**Program di atas** : digunakan untuk mencetak informasi terkini dari DataFrame nyc_rolling setelah proses pembersihan data (data cleaning). "
   ]
  },
  {
   "cell_type": "markdown",
   "id": "316f230b",
   "metadata": {},
   "source": [
    "## Mean"
   ]
  },
  {
   "cell_type": "markdown",
   "id": "261dff2d",
   "metadata": {},
   "source": [
    "#### Pertanyaan : Berapakah jumlah unit perumahan yang ada pada tahun 2017?"
   ]
  },
  {
   "cell_type": "code",
   "execution_count": 156,
   "id": "4c440739",
   "metadata": {},
   "outputs": [],
   "source": [
    "nyc_rolling.to_csv('nyc-rolling-sales-cleaned.csv', index=False)"
   ]
  },
  {
   "cell_type": "markdown",
   "id": "abda8755",
   "metadata": {},
   "source": [
    "**Program di atas** : digunakan menyimpan DataFrame nyc_rolling yang sudah bersih (setelah proses cleaning) ke dalam file CSV dengan nama \"nyc-rolling-sales-cleaned.csv\". index=False digunakan untuk menghindari penulisan indeks baris ke dalam file CSV, karena indeks tersebut biasanya tidak dibutuhkan jika kita sudah memiliki kolom indeks yang cukup di DataFrame."
   ]
  },
  {
   "cell_type": "code",
   "execution_count": 157,
   "id": "6c7377dc",
   "metadata": {
    "scrolled": true
   },
   "outputs": [],
   "source": [
    "data = {'SALE DATE': ['2017-01-01', '2017-02-01', '2018-01-01', '2018-02-01'],\n",
    "        'RESIDENTIAL UNITS': [10, 15, 8, 12]}"
   ]
  },
  {
   "cell_type": "markdown",
   "id": "5775606b",
   "metadata": {},
   "source": [
    "**Program di atas** : digunakan unyuk membuat sebuah dictionary dengan dua kunci, yaitu 'SALE DATE' dan 'RESIDENTIAL UNITS', yang masing-masing memiliki daftar tanggal penjualan dan jumlah unit residensial pada setiap tanggal penjualan."
   ]
  },
  {
   "cell_type": "code",
   "execution_count": 158,
   "id": "9fdf55c6",
   "metadata": {},
   "outputs": [],
   "source": [
    "nyc_rolling['SALE DATE'] = pd.to_datetime(nyc_rolling['SALE DATE'])"
   ]
  },
  {
   "cell_type": "markdown",
   "id": "7bc31340",
   "metadata": {},
   "source": [
    "**Program di atas** : digunakan untuk mengonversi kolom 'SALE DATE' dalam DataFrame nyc_rolling menjadi tipe data datetime"
   ]
  },
  {
   "cell_type": "code",
   "execution_count": 159,
   "id": "2e5a4e5c",
   "metadata": {},
   "outputs": [],
   "source": [
    "nyc_rolling_2017 = nyc_rolling[nyc_rolling['SALE DATE'].dt.year == 2017]"
   ]
  },
  {
   "cell_type": "markdown",
   "id": "587be8d4",
   "metadata": {},
   "source": [
    "**Program di atas** : digunakan untuk membuat DataFrame baru dengan nama nyc_rolling_2017, yang berisi hanya baris-baris dari DataFrame nyc_rolling di mana tahun penjualan ('SALE DATE') adalah tahun 2017."
   ]
  },
  {
   "cell_type": "code",
   "execution_count": 160,
   "id": "b234a6e0",
   "metadata": {},
   "outputs": [
    {
     "name": "stdout",
     "output_type": "stream",
     "text": [
      "Mean jumlah unit perumahan pada tahun 2017: 1.7659337783012694\n"
     ]
    }
   ],
   "source": [
    "mean_units_2017 = nyc_rolling_2017['RESIDENTIAL UNITS'].mean()\n",
    "\n",
    "print(f\"Mean jumlah unit perumahan pada tahun 2017: {mean_units_2017}\")"
   ]
  },
  {
   "cell_type": "markdown",
   "id": "bb789756",
   "metadata": {},
   "source": [
    "**Program di atas** : digunakan untuk menghitung rata-rata jumlah unit perumahan pada tahun 2017 dari kolom 'RESIDENTIAL UNITS' dalam DataFrame nyc_rolling_2017. Pada output di atas menghasilkan nilai 1.7659337783012694 yang merupakan mean dari jumlah unit perumahan pada tahun 2017."
   ]
  },
  {
   "cell_type": "code",
   "execution_count": 161,
   "id": "db35b87f",
   "metadata": {
    "scrolled": true
   },
   "outputs": [
    {
     "name": "stdout",
     "output_type": "stream",
     "text": [
      "count    45846.000000\n",
      "mean         1.765934\n",
      "std         13.037556\n",
      "min          0.000000\n",
      "25%          0.000000\n",
      "50%          1.000000\n",
      "75%          2.000000\n",
      "max       1844.000000\n",
      "Name: RESIDENTIAL UNITS, dtype: float64\n"
     ]
    }
   ],
   "source": [
    "print(nyc_rolling_2017['RESIDENTIAL UNITS'].describe())"
   ]
  },
  {
   "cell_type": "markdown",
   "id": "71fc0356",
   "metadata": {},
   "source": [
    "**Program di atas** : program di atas digunakan untuk mengecek berapa nilai mean sesungguhnya.\n",
    "\n",
    "Pada output di atas menunjukkan bahwa nilai mean adalah 1.765934 sedangkan pada output sebelumnya menghasilkan nilai 1.7659337783012694 yang dimana nilai sebelumnya cukup baik dan dekat dengan nilai sesungguhnya"
   ]
  },
  {
   "cell_type": "markdown",
   "id": "97bb9e73",
   "metadata": {},
   "source": [
    "## Median"
   ]
  },
  {
   "cell_type": "markdown",
   "id": "dc2219c4",
   "metadata": {},
   "source": [
    "**Pertanyaan : berapa harga penjualan unit perumahan berdasarkan wilayah pada tahun 2016-2018?**"
   ]
  },
  {
   "cell_type": "code",
   "execution_count": 162,
   "id": "896e8d6e",
   "metadata": {},
   "outputs": [],
   "source": [
    "nyc_rolling_filtered = nyc_rolling[(nyc_rolling['SALE DATE'].dt.year >= 2016) & (nyc_rolling['SALE DATE'].dt.year <= 2018)]"
   ]
  },
  {
   "cell_type": "markdown",
   "id": "663120e7",
   "metadata": {},
   "source": [
    "**Program di atas** : digunakan untuk membuat DataFrame baru bernama nyc_rolling_filtered yang hanya berisi data penjualan properti pada rentang tahun 2016 hingga 2018 (inklusif)."
   ]
  },
  {
   "cell_type": "code",
   "execution_count": 163,
   "id": "88d8c537",
   "metadata": {},
   "outputs": [],
   "source": [
    "median_price_by_borough = nyc_rolling_filtered.groupby('BOROUGH')['SALE PRICE'].median()"
   ]
  },
  {
   "cell_type": "markdown",
   "id": "e1437076",
   "metadata": {},
   "source": [
    "**Program di atas** : digunakan untuk menghitung median harga penjualan properti untuk setiap wilayah (BOROUGH) pada DataFrame nyc_rolling_filtered dan hasilnya disimpan dalam variabel median_price_by_borough."
   ]
  },
  {
   "cell_type": "code",
   "execution_count": 164,
   "id": "0e46f7ab",
   "metadata": {
    "scrolled": true
   },
   "outputs": [
    {
     "name": "stdout",
     "output_type": "stream",
     "text": [
      "Median harga penjualan unit perumahan berdasarkan wilayah (BOROUGH) pada tahun 2016-2018:\n",
      "BOROUGH\n",
      "1    1150000.0\n",
      "2     270000.0\n",
      "3     420000.0\n",
      "4     495000.0\n",
      "5     465000.0\n",
      "Name: SALE PRICE, dtype: float64\n"
     ]
    }
   ],
   "source": [
    "print(\"Median harga penjualan unit perumahan berdasarkan wilayah (BOROUGH) pada tahun 2016-2018:\")\n",
    "print(median_price_by_borough)"
   ]
  },
  {
   "cell_type": "markdown",
   "id": "a8d9da00",
   "metadata": {},
   "source": [
    "**Program di atas** : digunakan untuk mencetak nilai median harga penjualan unit perumahan berdasarkan wilayah (BOROUGH) pada tahun 2016-2018.\n",
    "\n",
    "Dapat dilihat pada output di atas yaitu wilayah 1 memiliki median harga yang lebih tinggi dibandingkan dengan wilayah lainnya dan wilayah 2 memiliki median harga yang paling rendah di antara wilayah-wilayah tersebut."
   ]
  },
  {
   "cell_type": "code",
   "execution_count": 165,
   "id": "0a644d93",
   "metadata": {
    "scrolled": true
   },
   "outputs": [
    {
     "name": "stdout",
     "output_type": "stream",
     "text": [
      "           count          mean           std  min       25%        50%  \\\n",
      "BOROUGH                                                                  \n",
      "1        14439.0  3.337951e+06  2.409778e+07  1.0  659000.0  1150000.0   \n",
      "2         7049.0  5.901936e+05  2.783058e+06  0.0       0.0   270000.0   \n",
      "3        24047.0  8.344884e+05  3.935813e+06  0.0       0.0   420000.0   \n",
      "4        18441.0  7.399086e+05  3.233884e+06  1.0  285000.0   495000.0   \n",
      "5         6011.0  5.434721e+05  1.901766e+06  1.0  325000.0   465000.0   \n",
      "\n",
      "               75%           max  \n",
      "BOROUGH                           \n",
      "1        2450000.0  2.210000e+09  \n",
      "2         500000.0  1.100000e+08  \n",
      "3         930000.0  3.450000e+08  \n",
      "4         775000.0  2.575000e+08  \n",
      "5         600000.0  1.220000e+08  \n"
     ]
    }
   ],
   "source": [
    "additional_stats = nyc_rolling_filtered.groupby('BOROUGH')['SALE PRICE'].describe()\n",
    "print(additional_stats)"
   ]
  },
  {
   "cell_type": "markdown",
   "id": "f6410a2d",
   "metadata": {},
   "source": [
    "**Program di atas** : digunakan untuk menghasilkan deskripsi statistik tambahan (additional_stats) dari kolom 'SALE PRICE' berdasarkan wilayah (BOROUGH) pada data yang telah difilter untuk tahun 2016-2018.\n",
    "\n",
    "Output di atas adalah gambaran lengkap tentang distribusi harga penjualan unit perumahan di setiap wilayah yang dimana mean memberikan informasi tentang tendensi sentral, sedangkan median memberikan nilai tengah yang kurang dipengaruhi oleh pencilan (outlier). Selain itu, deviasi standar memberikan ukuran sebaran data untuk mengetahui sejauh mana data tersebar dari rata-rata."
   ]
  },
  {
   "cell_type": "markdown",
   "id": "47da2892",
   "metadata": {},
   "source": [
    "## Modus"
   ]
  },
  {
   "cell_type": "markdown",
   "id": "3c8955eb",
   "metadata": {},
   "source": [
    "**Pertanyaan : seperti apa distribusi frekuensi kelas pajak pada 2 tahun terakhir?**"
   ]
  },
  {
   "cell_type": "code",
   "execution_count": 166,
   "id": "e15a2ef0",
   "metadata": {},
   "outputs": [],
   "source": [
    "nyc_rolling_last_2_years = nyc_rolling[nyc_rolling['SALE DATE'].dt.year >= nyc_rolling['SALE DATE'].dt.year.max() - 2]"
   ]
  },
  {
   "cell_type": "markdown",
   "id": "08f530bf",
   "metadata": {},
   "source": [
    "**Program di atas** : digunakan untuk membuat subset dari data nyc_rolling yang hanya mencakup penjualan properti dalam 2 tahun terakhir dari dataset, berdasarkan kolom 'SALE DATE'."
   ]
  },
  {
   "cell_type": "code",
   "execution_count": 167,
   "id": "a6d2c8ed",
   "metadata": {
    "scrolled": true
   },
   "outputs": [
    {
     "name": "stdout",
     "output_type": "stream",
     "text": [
      "Modus dari kolom 'TAX CLASS AT PRESENT' pada 2 tahun terakhir: 1\n"
     ]
    }
   ],
   "source": [
    "tax_class_mode = nyc_rolling_last_2_years['TAX CLASS AT PRESENT'].mode()\n",
    "\n",
    "print(f\"Modus dari kolom 'TAX CLASS AT PRESENT' pada 2 tahun terakhir: {tax_class_mode.values[0]}\")"
   ]
  },
  {
   "cell_type": "markdown",
   "id": "eee12e13",
   "metadata": {},
   "source": [
    "**Program di atas** : digunakan untuk menghitung modus dari kolom 'TAX CLASS AT PRESENT' pada data nyc_rolling_last_2_years (subset data yang mencakup penjualan properti dalam 2 tahun terakhir). \n",
    "\n",
    "Pada output di atas memberikan satu nilai saja yang dianggap sebagai modus dari kolom 'TAX CLASS AT PRESENT' pada 8 tahun terakhir yaitu 1."
   ]
  },
  {
   "cell_type": "code",
   "execution_count": 168,
   "id": "9cc311d5",
   "metadata": {},
   "outputs": [
    {
     "name": "stdout",
     "output_type": "stream",
     "text": [
      "Semua nilai modus dari kolom 'TAX CLASS AT PRESENT' pada 2 tahun terakhir: ['1', '2', '4', '2A', '2C', '1A', '1B', ' ', '2B', '1C', '3']\n"
     ]
    }
   ],
   "source": [
    "tax_class_modes = nyc_rolling_last_2_years['TAX CLASS AT PRESENT'].value_counts().index.tolist()\n",
    "\n",
    "print(f\"Semua nilai modus dari kolom 'TAX CLASS AT PRESENT' pada 2 tahun terakhir: {tax_class_modes}\")"
   ]
  },
  {
   "cell_type": "markdown",
   "id": "7b2600fe",
   "metadata": {},
   "source": [
    "**Program di atas** :  digunakan untuk menghitung semua nilai modus dari kolom 'TAX CLASS AT PRESENT' pada data nyc_rolling_last_2_years (subset data yang mencakup penjualan properti dalam 2 tahun terakhir). \n",
    "\n",
    "Pada output di atas memberikan semua nilai yang memiliki frekuensi paling tinggi dalam kolom 'TAX CLASS AT PRESENT' pada 8 tahun terakhir. Dalam hal ini, beberapa nilai mungkin memiliki frekuensi yang sama tinggi sehingga semuanya dianggap sebagai modus."
   ]
  },
  {
   "cell_type": "markdown",
   "id": "0bf8bbe0",
   "metadata": {},
   "source": [
    "## Range"
   ]
  },
  {
   "cell_type": "markdown",
   "id": "df04d30d",
   "metadata": {},
   "source": [
    "**Pertanyaan : adakah perbedaan harga penjualan berdasarkan kelas bangunan pada saat penjualan?**"
   ]
  },
  {
   "cell_type": "code",
   "execution_count": 169,
   "id": "60fb88d9",
   "metadata": {},
   "outputs": [],
   "source": [
    "selected_columns = ['BUILDING CLASS AT TIME OF SALE', 'SALE PRICE']\n",
    "nyc_rolling_selected = nyc_rolling[selected_columns]"
   ]
  },
  {
   "cell_type": "markdown",
   "id": "c2bc9a99",
   "metadata": {},
   "source": [
    "**Program di atas** : digunakan untuk memilih dua kolom dari DataFrame nyc_rolling, yaitu 'BUILDING CLASS AT TIME OF SALE' dan 'SALE PRICE', dan menyimpannya dalam DataFrame baru yang disebut nyc_rolling_selected."
   ]
  },
  {
   "cell_type": "code",
   "execution_count": 170,
   "id": "b2030770",
   "metadata": {},
   "outputs": [],
   "source": [
    "nyc_rolling_selected = nyc_rolling_selected.dropna(subset=['SALE PRICE'])"
   ]
  },
  {
   "cell_type": "markdown",
   "id": "82dc2e7c",
   "metadata": {},
   "source": [
    "**Program di atas** : digunakan untuk menghapus baris atau entri yang memiliki nilai kosong (NaN) pada kolom 'SALE PRICE' dalam DataFrame nyc_rolling_selected."
   ]
  },
  {
   "cell_type": "code",
   "execution_count": 171,
   "id": "dac82570",
   "metadata": {},
   "outputs": [],
   "source": [
    "range_by_building_class = nyc_rolling_selected.groupby('BUILDING CLASS AT TIME OF SALE')['SALE PRICE'].apply(lambda x: x.max() - x.min())"
   ]
  },
  {
   "cell_type": "markdown",
   "id": "bf90c5f7",
   "metadata": {},
   "source": [
    "**Program di atas** : digunakan untuk menghitung rentang (range) harga penjualan ('SALE PRICE') untuk setiap kategori kelas bangunan ('BUILDING CLASS AT TIME OF SALE'). "
   ]
  },
  {
   "cell_type": "code",
   "execution_count": 172,
   "id": "425e9b5f",
   "metadata": {
    "scrolled": true
   },
   "outputs": [
    {
     "name": "stdout",
     "output_type": "stream",
     "text": [
      "Range Harga Penjualan (SALE PRICE) berdasarkan BUILDING CLASS AT TIME OF SALE:\n",
      "BUILDING CLASS AT TIME OF SALE\n",
      "A0      2449990\n",
      "A1      5200000\n",
      "A2      2600000\n",
      "A3     11900000\n",
      "A4     41000000\n",
      "        ...    \n",
      "Y1            0\n",
      "Y3            0\n",
      "Z0      2825000\n",
      "Z2            2\n",
      "Z9    160000000\n",
      "Name: SALE PRICE, Length: 161, dtype: int64\n"
     ]
    }
   ],
   "source": [
    "print(\"Range Harga Penjualan (SALE PRICE) berdasarkan BUILDING CLASS AT TIME OF SALE:\")\n",
    "print(range_by_building_class)"
   ]
  },
  {
   "cell_type": "markdown",
   "id": "dddd8a81",
   "metadata": {},
   "source": [
    "**Program di atas** : digunakan untuk mencetak hasil perhitungan rentang (range) harga penjualan ('SALE PRICE') berdasarkan kategori kelas bangunan ('BUILDING CLASS AT TIME OF SALE').\n",
    "\n",
    "Output di atas menunjukkan range harga penjualan (SALE PRICE) berdasarkan BUILDING CLASS AT TIME OF SALE. Di sini, setiap baris mewakili sebuah kelas bangunan (BUILDING CLASS AT TIME OF SALE), dan nilai di sebelah kanan adalah range harga penjualan untuk kelas bangunan tersebut. Seperti  2.449.990 adalah range harga penjualan Untuk BUILDING CLASS AT TIME OF SALE 'A0'"
   ]
  },
  {
   "cell_type": "markdown",
   "id": "188f8cf7",
   "metadata": {},
   "source": [
    "## Variance"
   ]
  },
  {
   "cell_type": "markdown",
   "id": "0fa69835",
   "metadata": {},
   "source": [
    "**Pertanyaan : seperti apa distribusi statistik data unit komersial setiap tahunnya?**\n",
    "\n"
   ]
  },
  {
   "cell_type": "code",
   "execution_count": 173,
   "id": "5ffe2049",
   "metadata": {},
   "outputs": [],
   "source": [
    "nyc_rolling['SALE YEAR'] = nyc_rolling['SALE DATE'].dt.year"
   ]
  },
  {
   "cell_type": "markdown",
   "id": "18df2b2a",
   "metadata": {},
   "source": [
    "**Program di atas** : digunakan untuk menambahkan kolom baru 'SALE YEAR' ke dalam DataFrame 'nyc_rolling', yang berisi informasi tahun dari tanggal penjualan ('SALE DATE')."
   ]
  },
  {
   "cell_type": "code",
   "execution_count": 174,
   "id": "405fae16",
   "metadata": {},
   "outputs": [],
   "source": [
    "variance_by_year = nyc_rolling.groupby('SALE YEAR')['COMMERCIAL UNITS'].var()\n",
    "statistics_by_year = nyc_rolling.groupby('SALE YEAR')['COMMERCIAL UNITS'].describe()"
   ]
  },
  {
   "cell_type": "markdown",
   "id": "e8586123",
   "metadata": {},
   "source": [
    "**Program di atas** : digunakan untuk menganalisis varians dan statistik deskriptif dari kolom 'COMMERCIAL UNITS' berdasarkan tahun penjualan ('SALE YEAR'). "
   ]
  },
  {
   "cell_type": "code",
   "execution_count": 175,
   "id": "54f04651",
   "metadata": {},
   "outputs": [
    {
     "name": "stdout",
     "output_type": "stream",
     "text": [
      "Varians per tahun:\n",
      "SALE YEAR\n",
      "2016    221.597300\n",
      "2017     10.386798\n",
      "Name: COMMERCIAL UNITS, dtype: float64\n",
      "\n",
      "Distribusi statistik per tahun:\n",
      "             count      mean        std  min  25%  50%  75%     max\n",
      "SALE YEAR                                                          \n",
      "2016       24141.0  0.254546  14.886145  0.0  0.0  0.0  0.0  2261.0\n",
      "2017       45846.0  0.129281   3.222856  0.0  0.0  0.0  0.0   436.0\n"
     ]
    }
   ],
   "source": [
    "print(\"Varians per tahun:\")\n",
    "print(variance_by_year)\n",
    "\n",
    "print(\"\\nDistribusi statistik per tahun:\")\n",
    "print(statistics_by_year)"
   ]
  },
  {
   "cell_type": "markdown",
   "id": "eccd8f07",
   "metadata": {},
   "source": [
    "**Program di atas** : digunakan untuk memberikan informasi lebih lanjut tentang variasi dan statistik deskriptif dari kolom 'COMMERCIAL UNITS' berdasarkan tahun penjualan. \n",
    "\n",
    "Output di atas memberikan informasi mengenai varians dan distribusi statistik untuk kolom 'COMMERCIAL UNITS' pada setiap tahun penjualan. Pada tahun 2016 memiliki sekitar 221.597300 yang dibulatkan menjadi 221.60. yang artinya nilai varians yang lebih tinggi menunjukkan bahwa data lebih tersebar atau bervariasi lebih besar dari rata-rata. Kita juga dapat melihat distribusi dan variasi dalam jumlah unit komersial pada setiap tahun penjualan. Varians yang lebih rendah pada tahun 2017 menunjukkan bahwa data cenderung lebih terkonsentrasi atau kurang bervariasi dibandingkan dengan tahun 2016."
   ]
  },
  {
   "cell_type": "markdown",
   "id": "231d98eb",
   "metadata": {},
   "source": [
    "## Standard Deviation"
   ]
  },
  {
   "cell_type": "markdown",
   "id": "2ae846d6",
   "metadata": {},
   "source": [
    "**Pertanyaan : berapa jumlah unit paling banyak dibangun berdasarkan kategori kelas bangunan?**"
   ]
  },
  {
   "cell_type": "code",
   "execution_count": 176,
   "id": "8b27a137",
   "metadata": {},
   "outputs": [],
   "source": [
    "std_units_per_category = nyc_rolling.groupby('BUILDING CLASS CATEGORY')['TOTAL UNITS'].std()"
   ]
  },
  {
   "cell_type": "markdown",
   "id": "fb6ef616",
   "metadata": {},
   "source": [
    "**Program di atas** : digunakan untuk menghitung deviasi standar dari kolom 'TOTAL UNITS' berdasarkan kategori kelas bangunan ('BUILDING CLASS CATEGORY'). "
   ]
  },
  {
   "cell_type": "code",
   "execution_count": 177,
   "id": "d3910ac7",
   "metadata": {},
   "outputs": [],
   "source": [
    "max_std_category = std_units_per_category.idxmax()"
   ]
  },
  {
   "cell_type": "markdown",
   "id": "9272b588",
   "metadata": {},
   "source": [
    "**Program di atas** : digunakan untuk menemukan kategori kelas bangunan ('BUILDING CLASS CATEGORY') yang memiliki deviasi standar (standard deviation) maksimum dari jumlah total unit. Dengan kata lain, kita mencari kategori yang memiliki tingkat variasi tertinggi dalam jumlah total unit."
   ]
  },
  {
   "cell_type": "code",
   "execution_count": 178,
   "id": "f8aa60fa",
   "metadata": {},
   "outputs": [
    {
     "name": "stdout",
     "output_type": "stream",
     "text": [
      "Deviasi Standar TOTAL UNITS per BUILDING CLASS CATEGORY:\n",
      "BUILDING CLASS CATEGORY\n",
      "01 ONE FAMILY DWELLINGS                           0.181054\n",
      "02 TWO FAMILY DWELLINGS                           0.226842\n",
      "03 THREE FAMILY DWELLINGS                         0.103089\n",
      "04 TAX CLASS 1 CONDOS                             0.132478\n",
      "05 TAX CLASS 1 VACANT LAND                        3.641446\n",
      "06 TAX CLASS 1 - OTHER                            0.456983\n",
      "07 RENTALS - WALKUP APARTMENTS                   29.281159\n",
      "08 RENTALS - ELEVATOR APARTMENTS                131.760334\n",
      "09 COOPS - WALKUP APARTMENTS                      4.308782\n",
      "10 COOPS - ELEVATOR APARTMENTS                   20.173156\n",
      "11 SPECIAL CONDO BILLING LOTS                          NaN\n",
      "11A CONDO-RENTALS                                72.264672\n",
      "12 CONDOS - WALKUP APARTMENTS                     0.000000\n",
      "13 CONDOS - ELEVATOR APARTMENTS                   0.206566\n",
      "14 RENTALS - 4-10 UNIT                            1.411790\n",
      "15 CONDOS - 2-10 UNIT RESIDENTIAL                 0.211790\n",
      "16 CONDOS - 2-10 UNIT WITH COMMERCIAL UNIT        0.158088\n",
      "17 CONDO COOPS                                    3.297327\n",
      "18 TAX CLASS 3 - UNTILITY PROPERTIES              0.000000\n",
      "21 OFFICE BUILDINGS                              12.221726\n",
      "22 STORE BUILDINGS                                7.088585\n",
      "23 LOFT BUILDINGS                                 6.487384\n",
      "25 LUXURY HOTELS                                206.222314\n",
      "26 OTHER HOTELS                                  76.581119\n",
      "27 FACTORIES                                      4.290451\n",
      "28 COMMERCIAL CONDOS                              0.000000\n",
      "29 COMMERCIAL GARAGES                             1.632231\n",
      "30 WAREHOUSES                                     1.539972\n",
      "31 COMMERCIAL VACANT LAND                         1.195196\n",
      "32 HOSPITAL AND HEALTH FACILITIES                28.041497\n",
      "33 EDUCATIONAL FACILITIES                       340.680335\n",
      "34 THEATRES                                       7.280110\n",
      "35 INDOOR PUBLIC AND CULTURAL FACILITIES          0.705234\n",
      "36 OUTDOOR RECREATIONAL FACILITIES                0.377964\n",
      "37 RELIGIOUS FACILITIES                           0.642589\n",
      "38 ASYLUMS AND HOMES                             40.889421\n",
      "39 TRANSPORTATION FACILITIES                      0.000000\n",
      "40 SELECTED GOVERNMENTAL FACILITIES               0.000000\n",
      "41 TAX CLASS 4 - OTHER                            0.943733\n",
      "42 CONDO CULTURAL/MEDICAL/EDUCATIONAL/ETC         0.000000\n",
      "43 CONDO OFFICE BUILDINGS                         0.086065\n",
      "44 CONDO PARKING                                  0.288518\n",
      "45 CONDO HOTELS                                   0.000000\n",
      "46 CONDO STORE BUILDINGS                          0.142119\n",
      "47 CONDO NON-BUSINESS STORAGE                     0.183098\n",
      "48 CONDO TERRACES/GARDENS/CABANAS                 0.000000\n",
      "49 CONDO WAREHOUSES/FACTORY/INDUS                 0.000000\n",
      "Name: TOTAL UNITS, dtype: float64\n"
     ]
    }
   ],
   "source": [
    "print(\"Deviasi Standar TOTAL UNITS per BUILDING CLASS CATEGORY:\")\n",
    "print(std_units_per_category)"
   ]
  },
  {
   "cell_type": "markdown",
   "id": "b68d6d58",
   "metadata": {},
   "source": [
    "**Program di atas** : digunakan untuk mencetak deviasi standar dari jumlah total unit untuk setiap kategori kelas bangunan ('BUILDING CLASS CATEGORY').\n",
    "\n",
    "Output di atas  menunjukkan deviasi standar dari jumlah total unit untuk setiap kategori kelas bangunan ('BUILDING CLASS CATEGORY'). Deviasi standar memberikan gambaran seberapa bervariasinya data jumlah total unit dalam setiap kategori. Nilai deviasi standar yang tinggi menunjukkan bahwa data memiliki variasi yang besar dari nilai rata-ratanya, sedangkan nilai yang rendah menunjukkan bahwa data lebih berkumpul di sekitar nilai rata-ratanya."
   ]
  },
  {
   "cell_type": "code",
   "execution_count": 179,
   "id": "de6c9c62",
   "metadata": {},
   "outputs": [
    {
     "name": "stdout",
     "output_type": "stream",
     "text": [
      "\n",
      "BUILDING CLASS CATEGORY dengan Deviasi Standar Maksimum:\n",
      "33 EDUCATIONAL FACILITIES                  \n"
     ]
    }
   ],
   "source": [
    "print(\"\\nBUILDING CLASS CATEGORY dengan Deviasi Standar Maksimum:\")\n",
    "print(max_std_category)"
   ]
  },
  {
   "cell_type": "markdown",
   "id": "848ca3d4",
   "metadata": {},
   "source": [
    "**Program di atas** : digunakan untuk mencetak kategori kelas bangunan ('BUILDING CLASS CATEGORY') yang memiliki deviasi standar maksimum dari jumlah total unit. Pada kasus ini, max_std_category adalah hasil dari pemilihan kategori dengan deviasi standar maksimum menggunakan metode .idxmax().\n",
    "\n",
    "Output di atas menyatakan bahwa kategori kelas bangunan dengan deviasi standar maksimum dari jumlah total unit adalah '33 EDUCATIONAL FACILITIES' jika dibandingkan dengan kategori kelas bangunan lainnya."
   ]
  },
  {
   "cell_type": "markdown",
   "id": "b7ae845d",
   "metadata": {},
   "source": [
    "## Probability Distribution"
   ]
  },
  {
   "cell_type": "markdown",
   "id": "1130feb4",
   "metadata": {},
   "source": [
    "**Menganalisa distribusi data penjualan properti NYC**"
   ]
  },
  {
   "cell_type": "code",
   "execution_count": 180,
   "id": "4b85d7b0",
   "metadata": {},
   "outputs": [],
   "source": [
    "mean_price = nyc_rolling['SALE PRICE'].mean()\n",
    "median_price = nyc_rolling['SALE PRICE'].median()\n",
    "mode_price = nyc_rolling['SALE PRICE'].mode()[0]"
   ]
  },
  {
   "cell_type": "markdown",
   "id": "0be3de6e",
   "metadata": {},
   "source": [
    "**Program di atas** : digunakan untuk menghitung nilai rata-rata (mean), median (median), dan modus (mode) dari kolom 'SALE PRICE' dalam dataset."
   ]
  },
  {
   "cell_type": "code",
   "execution_count": 182,
   "id": "d22f14ba",
   "metadata": {},
   "outputs": [],
   "source": [
    "range_price = nyc_rolling['SALE PRICE'].max() - nyc_rolling['SALE PRICE'].min()\n",
    "std_deviation_price = nyc_rolling['SALE PRICE'].std()"
   ]
  },
  {
   "cell_type": "markdown",
   "id": "1add9e60",
   "metadata": {},
   "source": [
    "**Program di atas** : digunakan untuk menghitung rentang (range_price) dan deviasi standar (std_deviation_price) dari kolom 'SALE PRICE' dalam dataset."
   ]
  },
  {
   "cell_type": "code",
   "execution_count": 185,
   "id": "d0fcad38",
   "metadata": {},
   "outputs": [
    {
     "data": {
      "image/png": "[encoded data removed]",
      "text/plain": [
       "<Figure size 1000x600 with 1 Axes>"
      ]
     },
     "metadata": {},
     "output_type": "display_data"
    }
   ],
   "source": [
    "plt.figure(figsize=(10, 6))\n",
    "sns.histplot(nyc_rolling['SALE PRICE'], bins=30, kde=True)\n",
    "plt.title('Distribusi Harga Penjualan Properti NYC')\n",
    "plt.xlabel('Harga Penjualan')\n",
    "plt.ylabel('Frekuensi')\n",
    "plt.show()"
   ]
  },
  {
   "cell_type": "markdown",
   "id": "ae99278b",
   "metadata": {},
   "source": [
    "**Program di atas** : digunakan untuk membuat histogram dari distribusi harga penjualan properti dalam dataset.\n",
    "\n",
    "Output di atas menunjukkan bahwa sebagian besar properti yang terdapat dalam dataset memiliki harga penjualan yang lebih rendah, dan hanya sedikit properti yang memiliki harga penjualan yang tinggi. "
   ]
  },
  {
   "cell_type": "code",
   "execution_count": 186,
   "id": "659990d5",
   "metadata": {
    "scrolled": true
   },
   "outputs": [
    {
     "name": "stdout",
     "output_type": "stream",
     "text": [
      "Mean Harga Penjualan: 1276456.4977638705\n",
      "Median Harga Penjualan: 530000.0\n",
      "Mode Harga Penjualan: 0\n",
      "Range Harga Penjualan: 2210000000\n",
      "Deviasi Standar Harga Penjualan: 11405255.345990326\n"
     ]
    }
   ],
   "source": [
    "print(f\"Mean Harga Penjualan: {mean_price}\")\n",
    "print(f\"Median Harga Penjualan: {median_price}\")\n",
    "print(f\"Mode Harga Penjualan: {mode_price}\")\n",
    "print(f\"Range Harga Penjualan: {range_price}\")\n",
    "print(f\"Deviasi Standar Harga Penjualan: {std_deviation_price}\")"
   ]
  },
  {
   "cell_type": "markdown",
   "id": "2287e1a9",
   "metadata": {},
   "source": [
    "**Program di atas** : digunakan untuk menghitung dan mencetak beberapa statistik deskriptif tentang kolom 'SALE PRICE' pada DataFrame 'nyc_rolling'\n",
    "\n",
    "Output di atas menunjukkan beberapa informasi seperti 1276456.4977638705 adalah nilai rata-rata dari harga penjualan properti di seluruh dataset. 530000.0 adalah nilai tengah (nilai yang membagi data menjadi dua bagian setara) dari harga penjualan properti di seluruh dataset. 0 adalah nilai yang paling sering muncul dalam dataset. 2210000000 adalah selisih antara nilai maksimum dan minimum dalam dataset, memberikan gambaran tentang seberapa besar variasi harga. 11405255.345990326 adalah ukuran sebaran statistik yang mengukur seberapa jauh setiap nilai dalam dataset dari nilai rata-ratanya."
   ]
  }
 ],
 "metadata": {
  "kernelspec": {
   "display_name": "Python 3 (ipykernel)",
   "language": "python",
   "name": "python3"
  },
  "language_info": {
   "codemirror_mode": {
    "name": "ipython",
    "version": 3
   },
   "file_extension": ".py",
   "mimetype": "text/x-python",
   "name": "python",
   "nbconvert_exporter": "python",
   "pygments_lexer": "ipython3",
   "version": "3.11.5"
  }
 },
 "nbformat": 4,
 "nbformat_minor": 5
}
